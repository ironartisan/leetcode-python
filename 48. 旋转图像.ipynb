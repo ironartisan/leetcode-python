{
 "cells": [
  {
   "cell_type": "markdown",
   "metadata": {
    "collapsed": true,
    "pycharm": {
     "name": "#%% md\n"
    }
   },
   "source": [
    "给定一个 n × n 的二维矩阵表示一个图像。\n",
    "\n",
    "将图像顺时针旋转 90 度。\n",
    "\n",
    "说明：\n",
    "\n",
    "你必须在原地旋转图像，这意味着你需要直接修改输入的二维矩阵。请不要使用另一个矩阵来旋转图像。\n",
    "\n",
    "示例 1:\n",
    "\n",
    "给定 matrix =\n",
    "[\n",
    "  [1,2,3],\n",
    "  [4,5,6],\n",
    "  [7,8,9]\n",
    "],\n",
    "\n",
    "原地旋转输入矩阵，使其变为:\n",
    "[\n",
    "  [7,4,1],\n",
    "  [8,5,2],\n",
    "  [9,6,3]\n",
    "]\n",
    "示例 2:\n",
    "\n",
    "给定 matrix =\n",
    "[\n",
    "  [ 5, 1, 9,11],\n",
    "  [ 2, 4, 8,10],\n",
    "  [13, 3, 6, 7],\n",
    "  [15,14,12,16]\n",
    "],\n",
    "\n",
    "原地旋转输入矩阵，使其变为:\n",
    "[\n",
    "  [15,13, 2, 5],\n",
    "  [14, 3, 4, 1],\n",
    "  [12, 6, 8, 9],\n",
    "  [16, 7,10,11]\n",
    "]\n",
    "\n",
    "来源：力扣（LeetCode）\n",
    "链接：https://leetcode-cn.com/problems/rotate-image\n",
    "著作权归领扣网络所有。商业转载请联系官方授权，非商业转载请注明出处。"
   ]
  },
  {
   "cell_type": "code",
   "execution_count": 19,
   "outputs": [],
   "source": [
    "from typing import List\n",
    "\n",
    "class Solution:\n",
    "    \"\"\"\n",
    "    思路：\n",
    "    1. 先进行对角线翻转\n",
    "    2.再进行垂直翻转\n",
    "    \"\"\"\n",
    "    def rotate(self, matrix: List[List[int]]) -> None:\n",
    "        \"\"\"\n",
    "        Do not return anything, modify matrix in-place instead.\n",
    "        \"\"\"\n",
    "        row = len(matrix)\n",
    "        column = len(matrix[0])\n",
    "        # 先进行对角线翻转\n",
    "        for i in range(row):\n",
    "            for j in range(i):\n",
    "                matrix[i][j], matrix[j][i] = matrix[j][i], matrix[i][j]\n",
    "        # 再进行垂直翻转\n",
    "        for i in range(row):\n",
    "            for j in range(row // 2):\n",
    "                matrix[i][j],matrix[i][row - j -1] = matrix[i][row - j -1],matrix[i][j]\n",
    "\n",
    "\n"
   ],
   "metadata": {
    "collapsed": false,
    "pycharm": {
     "name": "#%%\n"
    }
   }
  }
 ],
 "metadata": {
  "kernelspec": {
   "display_name": "Python 3",
   "language": "python",
   "name": "python3"
  },
  "language_info": {
   "codemirror_mode": {
    "name": "ipython",
    "version": 2
   },
   "file_extension": ".py",
   "mimetype": "text/x-python",
   "name": "python",
   "nbconvert_exporter": "python",
   "pygments_lexer": "ipython2",
   "version": "2.7.6"
  }
 },
 "nbformat": 4,
 "nbformat_minor": 0
}