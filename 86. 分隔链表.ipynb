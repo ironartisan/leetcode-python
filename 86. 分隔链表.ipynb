{
 "cells": [
  {
   "cell_type": "markdown",
   "metadata": {
    "collapsed": true,
    "pycharm": {
     "name": "#%% md\n"
    }
   },
   "source": [
    "给你一个链表和一个特定值 x ，请你对链表进行分隔，使得所有小于 x 的节点都出现在大于或等于 x 的节点之前。\n",
    "\n",
    "你应当保留两个分区中每个节点的初始相对位置。\n",
    "\n",
    " \n",
    "```\n",
    "示例：\n",
    "\n",
    "输入：head = 1->4->3->2->5->2, x = 3\n",
    "输出：1->2->2->4->3->5\n",
    "```\n",
    "来源：力扣（LeetCode）\n",
    "链接：https://leetcode-cn.com/problems/partition-list\n",
    "著作权归领扣网络所有。商业转载请联系官方授权，非商业转载请注明出处。"
   ]
  },
  {
   "cell_type": "code",
   "execution_count": null,
   "outputs": [],
   "source": [
    "import collections\n",
    "# Definition for singly-linked list.\n",
    "class ListNode:\n",
    "    def __init__(self, x):\n",
    "        self.val = x\n",
    "        self.next = None\n",
    "\n",
    "class Solution:\n",
    "    \"\"\"\n",
    "    思路：（通过画图）\n",
    "    1. 通过两个子链表，分别存储比x大以及另外一部分的数据\n",
    "    2. 通过两个指针循环遍历数据\n",
    "    3. 将两个子链表链接\n",
    "    \"\"\"\n",
    "    def partition(self, head: ListNode, x: int) -> ListNode:\n",
    "        p=less=ListNode(0)\n",
    "        q=more=ListNode(0)\n",
    "        while head:\n",
    "            if head.val < x:\n",
    "                p.next = head\n",
    "                p = p.next\n",
    "            else:\n",
    "                q.next = head\n",
    "                q = q.next\n",
    "\n",
    "            head = head.next\n",
    "        q.next = None\n",
    "        p.next = more.next\n",
    "        return less.next\n",
    "\n",
    "# 时间复杂度：O(n)\n",
    "# 空间复杂度：O(1)"
   ],
   "metadata": {
    "collapsed": false,
    "pycharm": {
     "name": "#%%\n"
    }
   }
  }
 ],
 "metadata": {
  "kernelspec": {
   "display_name": "Python 3",
   "language": "python",
   "name": "python3"
  },
  "language_info": {
   "codemirror_mode": {
    "name": "ipython",
    "version": 2
   },
   "file_extension": ".py",
   "mimetype": "text/x-python",
   "name": "python",
   "nbconvert_exporter": "python",
   "pygments_lexer": "ipython2",
   "version": "2.7.6"
  }
 },
 "nbformat": 4,
 "nbformat_minor": 0
}