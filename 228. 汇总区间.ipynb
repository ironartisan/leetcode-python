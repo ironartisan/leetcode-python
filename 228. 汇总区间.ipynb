{
 "cells": [
  {
   "cell_type": "markdown",
   "metadata": {
    "collapsed": true,
    "pycharm": {
     "name": "#%% md\n"
    }
   },
   "source": [
    "给定一个无重复元素的有序整数数组 nums 。\n",
    "\n",
    "返回 恰好覆盖数组中所有数字 的 最小有序 区间范围列表。也就是说，nums 的每个元素都恰好被某个区间范围所覆盖，并且不存在属于某个范围但不属于 nums 的数字 x 。\n",
    "\n",
    "列表中的每个区间范围 [a,b] 应该按如下格式输出：\n",
    "\n",
    "\"a->b\" ，如果 a != b\n",
    "\"a\" ，如果 a == b\n",
    " \n",
    "```\n",
    "示例 1：\n",
    "\n",
    "输入：nums = [0,1,2,4,5,7]\n",
    "输出：[\"0->2\",\"4->5\",\"7\"]\n",
    "解释：区间范围是：\n",
    "[0,2] --> \"0->2\"\n",
    "[4,5] --> \"4->5\"\n",
    "[7,7] --> \"7\"\n",
    "示例 2：\n",
    "\n",
    "输入：nums = [0,2,3,4,6,8,9]\n",
    "输出：[\"0\",\"2->4\",\"6\",\"8->9\"]\n",
    "解释：区间范围是：\n",
    "[0,0] --> \"0\"\n",
    "[2,4] --> \"2->4\"\n",
    "[6,6] --> \"6\"\n",
    "[8,9] --> \"8->9\"\n",
    "示例 3：\n",
    "\n",
    "输入：nums = []\n",
    "输出：[]\n",
    "示例 4：\n",
    "\n",
    "输入：nums = [-1]\n",
    "输出：[\"-1\"]\n",
    "示例 5：\n",
    "\n",
    "输入：nums = [0]\n",
    "输出：[\"0\"]\n",
    "```\n",
    "来源：力扣（LeetCode）\n",
    "链接：https://leetcode-cn.com/problems/summary-ranges\n",
    "著作权归领扣网络所有。商业转载请联系官方授权，非商业转载请注明出处。\n"
   ]
  },
  {
   "cell_type": "code",
   "execution_count": null,
   "outputs": [],
   "source": [
    "from typing import List\n",
    "class Solution:\n",
    "    \"\"\"\n",
    "    思路1 常规解法：\n",
    "    1. 判断数组长度为0或1的情况\n",
    "    2. 使用temp存储左端点的值，遍历索引值1-n\n",
    "        2.1 当数组不连贯时，判断左端点的值是否等于temp。\n",
    "            2.1.1 若等于temp，则储存单个元素，否则改变存储方式，temp使用新的值\n",
    "            2.1.2 若i是最后一个元素，则直接添加最后一个元素\n",
    "        2.2 当数组连贯时\n",
    "            2.2.1 若i不是最后一个元素，数组连贯时，不做处理\n",
    "            2.2.2 若i是最后一个元素，则添加结果\n",
    "    \"\"\"\n",
    "    def summaryRanges(self, nums: List[int]) -> List[str]:\n",
    "        n = len(nums)\n",
    "        if n ==0: return []\n",
    "        if n ==1: return [str(nums[0])]\n",
    "        res = []\n",
    "\n",
    "        # 使用临时变量存储左端值\n",
    "        temp = nums[0]\n",
    "        for i in range(1, n):\n",
    "            # 如果数组不连贯\n",
    "            if nums[i-1]+1 != nums[i]:\n",
    "\n",
    "                # 如果temp不等于左端点的值\n",
    "                if temp != nums[i-1]:\n",
    "                    s = \"{0}->{1}\".format(temp, nums[i-1])\n",
    "                # temp与左端点的值相同，\n",
    "                if temp == nums[i-1]:\n",
    "                    s = str(temp)\n",
    "                res .append(s)\n",
    "                temp = nums[i]\n",
    "                # 如果i是最后一个元素\n",
    "                if i == n-1:\n",
    "                    res.append(str(nums[i]))\n",
    "\n",
    "            else:\n",
    "                if i == n-1:\n",
    "                    s = \"{0}->{1}\".format(temp, nums[i])\n",
    "                    res.append(s)\n",
    "        return res\n"
   ],
   "metadata": {
    "collapsed": false,
    "pycharm": {
     "name": "#%%\n"
    }
   }
  },
  {
   "cell_type": "code",
   "execution_count": null,
   "outputs": [],
   "source": [
    "from typing import List\n",
    "class Solution:\n",
    "    \"\"\"\n",
    "    思路2 - 数组末尾加入一个不连续的数\n",
    "    \"\"\"\n",
    "    def summaryRanges(self, nums: List[int]) -> List[str]:\n",
    "        res = []\n",
    "        if len(nums) == 0:return []\n",
    "        nums.append(nums[0]-1)\n",
    "\n",
    "        start = end = nums[0]\n",
    "        for  i in range(1, len(nums)):\n",
    "            if nums[i] - 1 == nums[i-1]:\n",
    "                end =  nums[i]\n",
    "            else:\n",
    "                if start == end:\n",
    "                    res.append(str(end))\n",
    "                else:\n",
    "                    res.append(str(start)+ '->' + str(end))\n",
    "        return res"
   ],
   "metadata": {
    "collapsed": false,
    "pycharm": {
     "name": "#%%\n"
    }
   }
  },
  {
   "cell_type": "code",
   "execution_count": null,
   "outputs": [],
   "source": [
    "from typing import List\n",
    "class Solution:\n",
    "    \"\"\"\n",
    "    思路3 - 官网解法(双指针)\n",
    "    \"\"\"\n",
    "    def summaryRanges(self, nums: List[int]) -> List[str]:\n",
    "        i, n = 0, len(nums)\n",
    "        if n == 0: return []\n",
    "        res = []\n",
    "\n",
    "        while i < n:\n",
    "            left = i\n",
    "            i +=1\n",
    "            # 如果前后连贯，则跳过\n",
    "            while i < n and nums[i-1] +1 == nums[i]:\n",
    "                i+=1\n",
    "            right = i-1\n",
    "            if left < right:\n",
    "                s = str(nums[left]) + '->' + str(nums[right])\n",
    "            else:\n",
    "                s = str(nums[left])\n",
    "            res.append(s)\n",
    "        return res\n",
    "\n",
    "\n",
    "\n",
    "\n"
   ],
   "metadata": {
    "collapsed": false,
    "pycharm": {
     "name": "#%%\n"
    }
   }
  }
 ],
 "metadata": {
  "kernelspec": {
   "display_name": "Python 3",
   "language": "python",
   "name": "python3"
  },
  "language_info": {
   "codemirror_mode": {
    "name": "ipython",
    "version": 2
   },
   "file_extension": ".py",
   "mimetype": "text/x-python",
   "name": "python",
   "nbconvert_exporter": "python",
   "pygments_lexer": "ipython2",
   "version": "2.7.6"
  }
 },
 "nbformat": 4,
 "nbformat_minor": 0
}