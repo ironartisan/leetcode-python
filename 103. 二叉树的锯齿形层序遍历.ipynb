{
 "cells": [
  {
   "cell_type": "markdown",
   "metadata": {
    "collapsed": true,
    "pycharm": {
     "name": "#%% md\n"
    }
   },
   "source": [
    "给定一个二叉树，返回其节点值的锯齿形层序遍历。（即先从左往右，再从右往左进行下一层遍历，以此类推，层与层之间交替进行）。\n",
    "\n",
    "例如：\n",
    "给定二叉树 [3,9,20,null,null,15,7],\n",
    "```\n",
    "    3\n",
    "   / \\\n",
    "  9  20\n",
    "    /  \\\n",
    "   15   7\n",
    "```\n",
    "返回锯齿形层序遍历如下：\n",
    "```\n",
    "[\n",
    "  [3],\n",
    "  [20,9],\n",
    "  [15,7]\n",
    "]\n",
    "```\n",
    "来源：力扣（LeetCode）\n",
    "链接：https://leetcode-cn.com/problems/binary-tree-zigzag-level-order-traversal\n",
    "著作权归领扣网络所有。商业转载请联系官方授权，非商业转载请注明出处。\n",
    "\n",
    "\n"
   ]
  },
  {
   "cell_type": "code",
   "execution_count": null,
   "outputs": [],
   "source": [
    "from typing import List\n",
    "import collections\n",
    "\n",
    "# Definition for a binary tree node.\n",
    "class TreeNode:\n",
    "    def __init__(self, x):\n",
    "        self.val = x\n",
    "        self.left = None\n",
    "        self.right = None\n",
    "\n",
    "class Solution:\n",
    "    \"\"\"\n",
    "    思路：\n",
    "    1. 对二叉树，先左右遍历，再右左进行遍历\n",
    "    \"\"\"\n",
    "    def zigzagLevelOrder(self, root: TreeNode) -> List[List[int]]:\n",
    "        level =0\n",
    "        record = []\n",
    "        res = {}\n",
    "        d = collections.deque()\n",
    "        p =root\n",
    "        d.append(p)\n",
    "        record.append(level)\n",
    "        while len(d) !=0:\n",
    "            p = d.pop()\n",
    "            level = record.pop()\n",
    "            # 偶数层，正常添加\n",
    "            if level %2 ==0:\n",
    "                res.setdefault(level, [])\n",
    "                res[level].append(p.val)\n",
    "            # 奇数层，反向添加\n",
    "            else:\n",
    "                res.setdefault(level, [])\n",
    "                res[level].insert(0, p.val)\n",
    "            if p.left:\n",
    "                d.append(p.left)\n",
    "                record.append(level+1)\n",
    "            if p.right:\n",
    "                d.append(p.right)\n",
    "                record.append(level+1)\n",
    "        return list(res.values())\n",
    "\n"
   ],
   "metadata": {
    "collapsed": false,
    "pycharm": {
     "name": "#%%\n"
    }
   }
  },
  {
   "cell_type": "code",
   "execution_count": null,
   "outputs": [],
   "source": [
    "# Definition for a binary tree node.\n",
    "# class TreeNode:\n",
    "#     def __init__(self, x):\n",
    "#         self.val = x\n",
    "#         self.left = None\n",
    "#         self.right = None\n",
    "\n",
    "class Solution:\n",
    "    def zigzagLevelOrder(self, root: TreeNode) -> List[List[int]]:\n",
    "        if not root:\n",
    "            return []\n",
    "        my_dict={}\n",
    "        # 层次遍历\n",
    "        level=0\n",
    "        l_queue=[]\n",
    "        queue=[]\n",
    "        p=root\n",
    "        queue.append(p)\n",
    "        l_queue.append(level)\n",
    "        while len(queue)!=0:\n",
    "            p=queue.pop(0)\n",
    "            level=l_queue.pop(0)\n",
    "            if level%2==0:\n",
    "                my_dict.setdefault(level,[])\n",
    "                my_dict[level].append(p.val)\n",
    "            else:\n",
    "                my_dict.setdefault(level,[])\n",
    "                my_dict[level].insert(0,p.val)\n",
    "            if p.left:\n",
    "                queue.append(p.left)\n",
    "                l_queue.append(level+1)\n",
    "            if p.right:\n",
    "                queue.append(p.right)\n",
    "                l_queue.append(level+1)\n",
    "        return list(my_dict.values())\n",
    "\n"
   ],
   "metadata": {
    "collapsed": false,
    "pycharm": {
     "name": "#%%\n"
    }
   }
  }
 ],
 "metadata": {
  "kernelspec": {
   "display_name": "Python 3",
   "language": "python",
   "name": "python3"
  },
  "language_info": {
   "codemirror_mode": {
    "name": "ipython",
    "version": 2
   },
   "file_extension": ".py",
   "mimetype": "text/x-python",
   "name": "python",
   "nbconvert_exporter": "python",
   "pygments_lexer": "ipython2",
   "version": "2.7.6"
  }
 },
 "nbformat": 4,
 "nbformat_minor": 0
}