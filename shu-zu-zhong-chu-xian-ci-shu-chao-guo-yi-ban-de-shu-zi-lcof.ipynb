{
 "cells": [
  {
   "cell_type": "markdown",
   "metadata": {
    "collapsed": true,
    "pycharm": {
     "name": "#%% md\n"
    }
   },
   "source": [
    "剑指 Offer 39. 数组中出现次数超过一半的数字\n",
    "数组中有一个数字出现的次数超过数组长度的一半，请找出这个数字。\n",
    "\n",
    "\n",
    "\n",
    "你可以假设数组是非空的，并且给定的数组总是存在多数元素。\n",
    "\n",
    "\n",
    "\n",
    "示例 1:\n",
    "\n",
    "输入: [1, 2, 3, 2, 2, 2, 5, 4, 2]\n",
    "输出: 2"
   ]
  },
  {
   "cell_type": "code",
   "execution_count": 9,
   "outputs": [],
   "source": [
    "# 使用排序法，但时间太长\n",
    "from typing import List\n",
    "class Solution:\n",
    "    def majorityElement(self, nums: List[int]) -> int:\n",
    "        len_nums = len(nums)\n",
    "        index = len_nums//2\n",
    "        return self.sort(nums)[index]\n",
    "\n",
    "    def sort(self, nums):\n",
    "        # 冒泡排序法,时间太长\n",
    "        for i in range(len(nums) -1):\n",
    "            for j in range(len(nums)-i-1):\n",
    "                if nums[j] > nums[j+1]:\n",
    "                    nums[j], nums[j+1] = nums[j+1], nums[j]\n",
    "        return nums"
   ],
   "metadata": {
    "collapsed": false,
    "pycharm": {
     "name": "#%%\n"
    }
   }
  },
  {
   "cell_type": "code",
   "execution_count": 16,
   "outputs": [],
   "source": [
    "# 使用内置的sorted\n",
    "from typing import List\n",
    "class Solution:\n",
    "    def majorityElement(self, nums: List[int]) -> int:\n",
    "        len_nums = len(nums)\n",
    "        index = len_nums//2\n",
    "        return sorted(nums)[index]"
   ],
   "metadata": {
    "collapsed": false,
    "pycharm": {
     "name": "#%%\n"
    }
   }
  },
  {
   "cell_type": "code",
   "execution_count": 18,
   "outputs": [],
   "source": [
    "# 摩尔投票法\n",
    "from typing import List\n",
    "class Solution:\n",
    "    def majorityElement(self, nums: List[int]) -> int:\n",
    "        vote = 0\n",
    "        for num in nums:\n",
    "            if vote==0: x = num\n",
    "            vote +=1 if num == x else -1\n",
    "        return x"
   ],
   "metadata": {
    "collapsed": false,
    "pycharm": {
     "name": "#%%\n"
    }
   }
  },
  {
   "cell_type": "code",
   "execution_count": 20,
   "outputs": [
    {
     "name": "stdout",
     "output_type": "stream",
     "text": [
      "3\n"
     ]
    }
   ],
   "source": [
    "nums = [3,2,3]\n",
    "solution = Solution()\n",
    "num = solution.majorityElement(nums)\n",
    "print(num)"
   ],
   "metadata": {
    "collapsed": false,
    "pycharm": {
     "name": "#%%\n"
    }
   }
  },
  {
   "cell_type": "code",
   "execution_count": null,
   "outputs": [],
   "source": [
    "\n"
   ],
   "metadata": {
    "collapsed": false,
    "pycharm": {
     "name": "#%%\n"
    }
   }
  }
 ],
 "metadata": {
  "kernelspec": {
   "display_name": "Python 3",
   "language": "python",
   "name": "python3"
  },
  "language_info": {
   "codemirror_mode": {
    "name": "ipython",
    "version": 2
   },
   "file_extension": ".py",
   "mimetype": "text/x-python",
   "name": "python",
   "nbconvert_exporter": "python",
   "pygments_lexer": "ipython2",
   "version": "2.7.6"
  }
 },
 "nbformat": 4,
 "nbformat_minor": 0
}