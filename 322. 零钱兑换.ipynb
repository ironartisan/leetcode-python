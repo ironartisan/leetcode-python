{
 "cells": [
  {
   "cell_type": "markdown",
   "metadata": {
    "collapsed": true,
    "pycharm": {
     "name": "#%% md\n"
    }
   },
   "source": [
    "给定不同面额的硬币 coins 和一个总金额 amount。编写一个函数来计算可以凑成总金额所需的最少的硬币个数。如果没有任何一种硬币组合能组成总金额，返回 -1。\n",
    "\n",
    "你可以认为每种硬币的数量是无限的。\n",
    "\n",
    " \n",
    "```\n",
    "示例 1：\n",
    "\n",
    "输入：coins = [1, 2, 5], amount = 11\n",
    "输出：3\n",
    "解释：11 = 5 + 5 + 1\n",
    "示例 2：\n",
    "\n",
    "输入：coins = [2], amount = 3\n",
    "输出：-1\n",
    "示例 3：\n",
    "\n",
    "输入：coins = [1], amount = 0\n",
    "输出：0\n",
    "示例 4：\n",
    "\n",
    "输入：coins = [1], amount = 1\n",
    "输出：1\n",
    "示例 5：\n",
    "\n",
    "输入：coins = [1], amount = 2\n",
    "输出：2\n",
    "```\n",
    "来源：力扣（LeetCode）\n",
    "链接：https://leetcode-cn.com/problems/coin-change\n",
    "著作权归领扣网络所有。商业转载请联系官方授权，非商业转载请注明出处。"
   ]
  },
  {
   "cell_type": "code",
   "execution_count": null,
   "outputs": [],
   "source": [
    "from typing import List\n",
    "class Solution:\n",
    "    \"\"\"\n",
    "    动态规划思路：\n",
    "    1.确定base case\n",
    "    2.确定状态（变量）\n",
    "    3.确定选择\n",
    "    4.明确dp函数的定义\n",
    "    \"\"\"\n",
    "    # 1. 暴力解法\n",
    "    def coinChange(self, coins: List[int], amount: int) -> int:\n",
    "\n",
    "        def dp(n):\n",
    "            # base case\n",
    "            if n<0: return -1\n",
    "            if n==0: return 0\n",
    "            res = float('INF')\n",
    "            for coin in coins:\n",
    "                subproblem = dp(n-coin)\n",
    "                if subproblem == -1:continue\n",
    "                # dp函数的定义\n",
    "                res = min(res, 1+subproblem)\n",
    "            return res if res!= float('INF')else -1\n",
    "        return dp(amount)"
   ],
   "metadata": {
    "collapsed": false,
    "pycharm": {
     "name": "#%%\n"
    }
   }
  },
  {
   "cell_type": "code",
   "execution_count": null,
   "outputs": [],
   "source": [
    "from typing import List\n",
    "class Solution:\n",
    "    \"\"\"\n",
    "    动态规划思路：\n",
    "    1.确定base case\n",
    "    2.确定状态（变量）\n",
    "    3.确定选择\n",
    "    4.明确dp函数的定义\n",
    "    \"\"\"\n",
    "    # 2. 添加备忘录\n",
    "    def coinChange(self, coins: List[int], amount: int) -> int:\n",
    "        mem = dict()\n",
    "        def dp(n):\n",
    "            # base case\n",
    "            if n in mem: return mem[n]\n",
    "            if n<0: return -1\n",
    "            if n==0: return 0\n",
    "            res = float('INF')\n",
    "            for coin in coins:\n",
    "                subproblem = dp(n-coin)\n",
    "                if subproblem == -1:continue\n",
    "                # dp函数的定义\n",
    "                res = min(res, 1+subproblem)\n",
    "            mem[n] = res if res!= float('INF')else -1\n",
    "            return mem[n]\n",
    "\n",
    "        return dp(amount)"
   ],
   "metadata": {
    "collapsed": false,
    "pycharm": {
     "name": "#%%\n"
    }
   }
  }
 ],
 "metadata": {
  "kernelspec": {
   "display_name": "Python 3",
   "language": "python",
   "name": "python3"
  },
  "language_info": {
   "codemirror_mode": {
    "name": "ipython",
    "version": 2
   },
   "file_extension": ".py",
   "mimetype": "text/x-python",
   "name": "python",
   "nbconvert_exporter": "python",
   "pygments_lexer": "ipython2",
   "version": "2.7.6"
  }
 },
 "nbformat": 4,
 "nbformat_minor": 0
}