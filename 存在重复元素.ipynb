{
 "cells": [
  {
   "cell_type": "markdown",
   "metadata": {
    "collapsed": true,
    "pycharm": {
     "name": "#%% md\n"
    }
   },
   "source": [
    "217. 存在重复元素\n",
    "给定一个整数数组，判断是否存在重复元素。\n",
    "\n",
    "如果任意一值在数组中出现至少两次，函数返回 true 。如果数组中每个元素都不相同，则返回 false 。\n",
    "\n",
    "示例 1:\n",
    "\n",
    "输入: [1,2,3,1]\n",
    "输出: true\n",
    "示例 2:\n",
    "\n",
    "输入: [1,2,3,4]\n",
    "输出: false\n",
    "示例 3:\n",
    "\n",
    "输入: [1,1,1,3,3,4,3,2,4,2]\n",
    "输出: true"
   ]
  },
  {
   "cell_type": "code",
   "execution_count": null,
   "outputs": [],
   "source": [
    "from typing import List\n",
    "\n",
    "class Solution:\n",
    "    \"\"\"\n",
    "    思路：\n",
    "    1. 将list转化成set\n",
    "    2. 比较list和set的长度\n",
    "    3. 判断结果\n",
    "        3.1 若相等，则证明不存在重复元素，返回false\n",
    "        3.2 不相等，则证明存在重复元素，返回true\n",
    "    \"\"\"\n",
    "    def containsDuplicate(self, nums: List[int]) -> bool:\n",
    "        num_set = set(nums)\n",
    "        if len(num_set) == len(nums):\n",
    "            return False\n",
    "        return True"
   ],
   "metadata": {
    "collapsed": false,
    "pycharm": {
     "name": "#%%\n"
    }
   }
  },
  {
   "cell_type": "code",
   "execution_count": null,
   "outputs": [],
   "source": [
    "from typing import List\n",
    "\n",
    "class Solution:\n",
    "    \"\"\"\n",
    "    思路：\n",
    "    1. 对数组进行排序\n",
    "    2. 比较排序号的两个数\n",
    "    3. 判断前后两个数的比较结果\n",
    "        3.1 若相等，则证明存在重复元素，返回true\n",
    "        3.2 不相等，则证明不存在重复元素，返回false\n",
    "    \"\"\"\n",
    "    def containsDuplicate(self, nums: List[int]) -> bool:\n",
    "        sort_nums = sorted(nums)\n",
    "        for i in range(0, len(sort_nums)-1):\n",
    "            if sort_nums[i]  == sort_nums[i+1]:\n",
    "                return True\n",
    "        return False\n"
   ],
   "metadata": {
    "collapsed": false,
    "pycharm": {
     "name": "#%%\n"
    }
   }
  }
 ],
 "metadata": {
  "kernelspec": {
   "display_name": "Python 3",
   "language": "python",
   "name": "python3"
  },
  "language_info": {
   "codemirror_mode": {
    "name": "ipython",
    "version": 2
   },
   "file_extension": ".py",
   "mimetype": "text/x-python",
   "name": "python",
   "nbconvert_exporter": "python",
   "pygments_lexer": "ipython2",
   "version": "2.7.6"
  }
 },
 "nbformat": 4,
 "nbformat_minor": 0
}