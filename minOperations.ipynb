{
 "cells": [
  {
   "cell_type": "markdown",
   "metadata": {
    "collapsed": true,
    "pycharm": {
     "name": "#%% md\n"
    }
   },
   "source": [
    "1598. 文件夹操作日志搜集器\n",
    "每当用户执行变更文件夹操作时，LeetCode 文件系统都会保存一条日志记录。\n",
    "\n",
    "下面给出对变更操作的说明：\n",
    "\n",
    "\"../\" ：移动到当前文件夹的父文件夹。如果已经在主文件夹下，则 继续停留在当前文件夹 。\n",
    "\"./\" ：继续停留在当前文件夹。\n",
    "\"x/\" ：移动到名为 x 的子文件夹中。题目数据保证总是存在文件夹 x 。\n",
    "给你一个字符串列表 logs ，其中 logs[i] 是用户在 ith 步执行的操作。\n",
    "\n",
    "文件系统启动时位于主文件夹，然后执行 logs 中的操作。\n",
    "\n",
    "执行完所有变更文件夹操作后，请你找出 返回主文件夹所需的最小步数 。\n",
    "\n",
    "示例 1：\n",
    "\n",
    "输入：logs = [\"d1/\",\"d2/\",\"../\",\"d21/\",\"./\"]\n",
    "输出：2\n",
    "解释：执行 \"../\" 操作变更文件夹 2 次，即可回到主文件夹\n",
    "示例 2：\n",
    "\n",
    "\n",
    "\n",
    "输入：logs = [\"d1/\",\"d2/\",\"./\",\"d3/\",\"../\",\"d31/\"]\n",
    "输出：3\n",
    "示例 3：\n",
    "\n",
    "输入：logs = [\"d1/\",\"../\",\"../\",\"../\"]\n",
    "输出：0"
   ]
  },
  {
   "cell_type": "code",
   "execution_count": 4,
   "outputs": [],
   "source": [
    "# 1. 遍历list\n",
    "# 2. 对每次操作判断，设定一个值temp\n",
    "#  2.1 若是x\\则+1，\n",
    "#  2.2 若是../则-1\n",
    "#   2.2.1  若temp是0，则pass\n",
    "#   2.2.2  若temp不为0，则-1\n",
    "#  2.3 若是./则+0\n",
    "#  2.2 若temp是0，则执行../还为0\n",
    "# 3.返回temp\n",
    "\n",
    "from typing import List\n",
    "class Solution:\n",
    "    def minOperations(self, logs: List[str]) -> int:\n",
    "        temp = 0\n",
    "        for str in logs:\n",
    "            if str == '../':\n",
    "                if temp !=0:\n",
    "                    temp -=1\n",
    "                else:\n",
    "                    pass\n",
    "            elif str == './':\n",
    "                pass\n",
    "            else:\n",
    "                temp += 1\n",
    "        return temp"
   ],
   "metadata": {
    "collapsed": false,
    "pycharm": {
     "name": "#%%\n"
    }
   }
  },
  {
   "cell_type": "code",
   "execution_count": 8,
   "outputs": [],
   "source": [
    "from typing import List\n",
    "class Solution:\n",
    "    def minOperations(self, logs: List[str]) -> int:\n",
    "        temp = 0\n",
    "        for str in logs:\n",
    "            if str == '../':\n",
    "                # 对判断条件进行处理\n",
    "                temp = max(0, temp-1)\n",
    "            elif str == './':\n",
    "                pass\n",
    "            else:\n",
    "                temp += 1\n",
    "        return temp"
   ],
   "metadata": {
    "collapsed": false,
    "pycharm": {
     "name": "#%%\n"
    }
   }
  },
  {
   "cell_type": "code",
   "execution_count": 9,
   "outputs": [
    {
     "data": {
      "text/plain": "2"
     },
     "execution_count": 9,
     "metadata": {},
     "output_type": "execute_result"
    }
   ],
   "source": [
    "# logs = [\"d1/\",\"d2/\",\"./\",\"d3/\",\"../\",\"d31/\"]\n",
    "logs = [\"d1/\",\"d2/\",\"../\",\"d21/\",\"./\"]\n",
    "# logs = [\"d1/\",\"../\",\"../\",\"../\"]\n",
    "solution = Solution()\n",
    "solution.minOperations(logs)\n",
    "\n",
    "\n"
   ],
   "metadata": {
    "collapsed": false,
    "pycharm": {
     "name": "#%%\n"
    }
   }
  }
 ],
 "metadata": {
  "kernelspec": {
   "display_name": "Python 3",
   "language": "python",
   "name": "python3"
  },
  "language_info": {
   "codemirror_mode": {
    "name": "ipython",
    "version": 2
   },
   "file_extension": ".py",
   "mimetype": "text/x-python",
   "name": "python",
   "nbconvert_exporter": "python",
   "pygments_lexer": "ipython2",
   "version": "2.7.6"
  }
 },
 "nbformat": 4,
 "nbformat_minor": 0
}