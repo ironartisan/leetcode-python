{
 "cells": [
  {
   "cell_type": "markdown",
   "metadata": {
    "collapsed": true,
    "pycharm": {
     "name": "#%% md\n"
    }
   },
   "source": [
    "序列化二叉树的一种方法是使用前序遍历。当我们遇到一个非空节点时，我们可以记录下这个节点的值。如果它是一个空节点，我们可以使用一个标记值记录，例如 #。\n",
    "```\n",
    "     _9_\n",
    "    /   \\\n",
    "   3     2\n",
    "  / \\   / \\\n",
    " 4   1  #  6\n",
    "/ \\ / \\   / \\\n",
    "# # # #   # #\n",
    "```\n",
    "例如，上面的二叉树可以被序列化为字符串 \"9,3,4,#,#,1,#,#,2,#,6,#,#\"，其中 # 代表一个空节点。\n",
    "\n",
    "给定一串以逗号分隔的序列，验证它是否是正确的二叉树的前序序列化。编写一个在不重构树的条件下的可行算法。\n",
    "\n",
    "每个以逗号分隔的字符或为一个整数或为一个表示 null 指针的 '#' 。\n",
    "\n",
    "你可以认为输入格式总是有效的，例如它永远不会包含两个连续的逗号，比如 \"1,,3\" 。\n",
    "```\n",
    "示例 1:\n",
    "\n",
    "输入: \"9,3,4,#,#,1,#,#,2,#,6,#,#\"\n",
    "输出: true\n",
    "示例 2:\n",
    "\n",
    "输入: \"1,#\"\n",
    "输出: false\n",
    "示例 3:\n",
    "\n",
    "输入: \"9,#,#,1\"\n",
    "输出: false\n",
    "```\n",
    "来源：力扣（LeetCode）\n",
    "链接：https://leetcode-cn.com/problems/verify-preorder-serialization-of-a-binary-tree\n",
    "著作权归领扣网络所有。商业转载请联系官方授权，非商业转载请注明出处。"
   ]
  },
  {
   "cell_type": "code",
   "execution_count": 1,
   "outputs": [],
   "source": [
    "class Solution:\n",
    "    def isValidSerialization(self, preorder: str) -> bool:\n",
    "        stack = []\n",
    "        stack.append(1)\n",
    "        if not preorder:\n",
    "            return False\n",
    "        for i,ch in enumerate(preorder):\n",
    "            if ch ==',':\n",
    "                i+=1\n",
    "            elif ch == '#':\n",
    "                value = stack.pop() -1\n",
    "                if value >0:\n",
    "                    stack.append(value)\n",
    "            else:\n",
    "                value = stack.pop() - 1\n",
    "                if value >0:\n",
    "                    stack.append(value)\n",
    "                stack.append(2)\n",
    "        return len(stack) == 0"
   ],
   "metadata": {
    "collapsed": false,
    "pycharm": {
     "name": "#%%\n"
    }
   }
  },
  {
   "cell_type": "code",
   "execution_count": 2,
   "outputs": [
    {
     "name": "stdout",
     "output_type": "stream",
     "text": [
      "True\n"
     ]
    }
   ],
   "source": [
    "# preorder = \"9,3,4,#,#,1,#,#,2,#,6,#,#\"\n",
    "preorder = \"1,#\"\n",
    "solution = Solution()\n",
    "print(solution.isValidSerialization(preorder))\n",
    "\n"
   ],
   "metadata": {
    "collapsed": false,
    "pycharm": {
     "name": "#%%\n"
    }
   }
  }
 ],
 "metadata": {
  "kernelspec": {
   "display_name": "Python 3",
   "language": "python",
   "name": "python3"
  },
  "language_info": {
   "codemirror_mode": {
    "name": "ipython",
    "version": 2
   },
   "file_extension": ".py",
   "mimetype": "text/x-python",
   "name": "python",
   "nbconvert_exporter": "python",
   "pygments_lexer": "ipython2",
   "version": "2.7.6"
  }
 },
 "nbformat": 4,
 "nbformat_minor": 0
}