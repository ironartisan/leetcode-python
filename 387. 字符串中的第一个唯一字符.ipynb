{
 "cells": [
  {
   "cell_type": "markdown",
   "metadata": {
    "collapsed": true,
    "pycharm": {
     "name": "#%% md\n"
    }
   },
   "source": [
    "给定一个字符串，找到它的第一个不重复的字符，并返回它的索引。如果不存在，则返回 -1。\n",
    "\n",
    "示例：\n",
    "```\n",
    "s = \"leetcode\"\n",
    "返回 0\n",
    "\n",
    "s = \"loveleetcode\"\n",
    "返回 2\n",
    " \n",
    "```\n",
    "提示：你可以假定该字符串只包含小写字母。\n",
    "\n",
    "来源：力扣（LeetCode）\n",
    "链接：https://leetcode-cn.com/problems/first-unique-character-in-a-string\n",
    "著作权归领扣网络所有。商业转载请联系官方授权，非商业转载请注明出处。\n"
   ]
  },
  {
   "cell_type": "code",
   "execution_count": null,
   "outputs": [],
   "source": [
    "from collections import Counter\n",
    "class Solution:\n",
    "    \"\"\"\n",
    "    思路：\n",
    "    1. 使用Counter函数对字符串统计\n",
    "    2. 遍历字符串，如果为字典的值1，则返回index\n",
    "    3. 若不存在，则返回-1\n",
    "    \"\"\"\n",
    "    def firstUniqChar(self, s: str) -> int:\n",
    "        char_dict = Counter(s)\n",
    "        for index,c in enumerate(s):\n",
    "            if char_dict[c] == 1:\n",
    "                return index\n",
    "        return -1\n",
    "\n",
    "# 时间复杂度：O(n)\n",
    "# 空间复杂度：O(∣Σ∣),∣Σ∣≤26.\n",
    "\n"
   ],
   "metadata": {
    "collapsed": false,
    "pycharm": {
     "name": "#%%\n"
    }
   }
  }
 ],
 "metadata": {
  "kernelspec": {
   "display_name": "Python 3",
   "language": "python",
   "name": "python3"
  },
  "language_info": {
   "codemirror_mode": {
    "name": "ipython",
    "version": 2
   },
   "file_extension": ".py",
   "mimetype": "text/x-python",
   "name": "python",
   "nbconvert_exporter": "python",
   "pygments_lexer": "ipython2",
   "version": "2.7.6"
  }
 },
 "nbformat": 4,
 "nbformat_minor": 0
}