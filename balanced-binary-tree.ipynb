{
 "cells": [
  {
   "cell_type": "markdown",
   "metadata": {
    "collapsed": true,
    "pycharm": {
     "name": "#%% md\n"
    }
   },
   "source": [
    "给定一个二叉树，判断它是否是高度平衡的二叉树。\n",
    "\n",
    "本题中，一棵高度平衡二叉树定义为：\n",
    "\n",
    "一个二叉树每个节点 的左右两个子树的高度差的绝对值不超过1。\n",
    "\n",
    "示例 1:\n",
    "\n",
    "给定二叉树 [3,9,20,null,null,15,7]\n",
    "\n",
    "    3\n",
    "   / \\\n",
    "  9  20\n",
    "    /  \\\n",
    "   15   7\n",
    "\n",
    "返回 true 。\n",
    "\n",
    "示例 2:\n",
    "\n",
    "给定二叉树 [1,2,2,3,3,null,null,4,4]\n",
    "\n",
    "       1\n",
    "      / \\\n",
    "     2   2\n",
    "    / \\\n",
    "   3   3\n",
    "  / \\\n",
    " 4   4\n",
    "返回 false 。\n",
    "\n",
    "来源：力扣（LeetCode）\n",
    "链接：https://leetcode-cn.com/problems/balanced-binary-tree\n",
    "著作权归领扣网络所有。商业转载请联系官方授权，非商业转载请注明出处。\n",
    "\n"
   ]
  },
  {
   "cell_type": "code",
   "execution_count": null,
   "outputs": [],
   "source": [
    "# Definition for a binary tree node.\n",
    "class TreeNode:\n",
    "    def __init__(self, x):\n",
    "        self.val = x\n",
    "        self.left = None\n",
    "        self.right = None\n",
    "# 平衡二叉树每个节点的左右两个子树的高度差的绝对值不超过1。\n",
    "## 解题思路：\n",
    "# 思路是构造一个获取当前节点最大深度的方法 depth(root) ，\n",
    "# 通过比较此子树的左右子树的最大高度差abs(depth(root.left) - depth(root.right))，\n",
    "# 来判断此子树是否是二叉平衡树。若树的所有子树都平衡时，此树才平衡。\n",
    "\n",
    "class Solution:\n",
    "    def isBalanced(self, root: TreeNode) -> bool:\n",
    "        if not root: return True\n",
    "        return abs(self.depth(root.left) - self.depth(root.right)) <=1 and self.isBalanced(root.left) and \\\n",
    "               self.isBalanced(root.right)\n",
    "    # 求二叉树的深度\n",
    "    def depth(self, root):\n",
    "        if not root: return 0\n",
    "        return max(self.depth(root.left), self.depth(root.right)) + 1"
   ],
   "metadata": {
    "collapsed": false,
    "pycharm": {
     "name": "#%%\n"
    }
   }
  },
  {
   "cell_type": "code",
   "execution_count": null,
   "outputs": [],
   "source": [
    "# 思路是对二叉树做先序遍历，从底至顶返回子树最大高度，若判定某子树不是平衡树则 “剪枝” ，直接向上返回\n",
    "# Definition for a binary tree node.\n",
    "class TreeNode:\n",
    "    def __init__(self, x):\n",
    "        self.val = x\n",
    "        self.left = None\n",
    "        self.right = None\n",
    "\n",
    "class Solution:\n",
    "    def isBalanced(self, root: TreeNode) -> bool:\n",
    "        if not root: return True\n",
    "        return self.recur(root) != -1\n",
    "\n",
    "    def recur(self, root):\n",
    "        if not root: return 0\n",
    "        left = self.recur(root.left)\n",
    "        if left == -1: return -1\n",
    "        right = self.recur(root.right)\n",
    "        if right == -1: return -1\n",
    "        return max(right, left) + 1 if abs(right - left) <2 else -1\n"
   ],
   "metadata": {
    "collapsed": false,
    "pycharm": {
     "name": "#%%\n"
    }
   }
  }
 ],
 "metadata": {
  "kernelspec": {
   "display_name": "Python 3",
   "language": "python",
   "name": "python3"
  },
  "language_info": {
   "codemirror_mode": {
    "name": "ipython",
    "version": 2
   },
   "file_extension": ".py",
   "mimetype": "text/x-python",
   "name": "python",
   "nbconvert_exporter": "python",
   "pygments_lexer": "ipython2",
   "version": "2.7.6"
  }
 },
 "nbformat": 4,
 "nbformat_minor": 0
}