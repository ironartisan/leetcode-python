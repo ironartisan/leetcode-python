{
 "cells": [
  {
   "cell_type": "markdown",
   "metadata": {
    "collapsed": true,
    "pycharm": {
     "name": "#%% md\n"
    }
   },
   "source": [
    "给定两个字符串 s 和 t，它们只包含小写字母。\n",
    "\n",
    "字符串 t 由字符串 s 随机重排，然后在随机位置添加一个字母。\n",
    "\n",
    "请找出在 t 中被添加的字母。\n",
    "\n",
    "示例 1：\n",
    "输入：s = \"abcd\", t = \"abcde\"\n",
    "输出：\"e\"\n",
    "解释：'e' 是那个被添加的字母。\n",
    "\n",
    "示例 2：\n",
    "输入：s = \"\", t = \"y\"\n",
    "输出：\"y\"\n",
    "\n",
    "示例 3：\n",
    "输入：s = \"a\", t = \"aa\"\n",
    "输出：\"a\"\n",
    "\n",
    "示例 4：\n",
    "输入：s = \"ae\", t = \"aea\"\n",
    "输出：\"a\"\n",
    "\n",
    "来源：力扣（LeetCode）\n",
    "链接：https://leetcode-cn.com/problems/find-the-difference\n",
    "著作权归领扣网络所有。商业转载请联系官方授权，非商业转载请注明出处。"
   ]
  },
  {
   "cell_type": "code",
   "execution_count": 12,
   "outputs": [],
   "source": [
    "class Solution:\n",
    "    \"\"\"\n",
    "    思路：\n",
    "    1. 将字符串转化为字符列表\n",
    "    2. 对字符列表进行统计，按照字符->次数对字符列表\n",
    "    3. 输出两个字符字典中key相同，value不同的key\n",
    "    \"\"\"\n",
    "    def findTheDifference(self, s: str, t: str) -> str:\n",
    "        s_words = [word for word in s]\n",
    "        t_words = [word for word in t]\n",
    "\n",
    "        s_dict, t_dict={},{}\n",
    "\n",
    "        for s_word in s_words:\n",
    "            if s_word in s_dict:\n",
    "                s_dict[s_word]+=1\n",
    "            else:\n",
    "                s_dict[s_word]=1\n",
    "        for t_word in t_words:\n",
    "            if t_word in t_dict:\n",
    "                t_dict[t_word]+=1\n",
    "            else:\n",
    "                t_dict[t_word]=1\n",
    "        diff = set(s_dict.items()) ^ set(t_dict.items())\n",
    "        return diff.pop()[0]"
   ],
   "metadata": {
    "collapsed": false,
    "pycharm": {
     "name": "#%%\n"
    }
   }
  },
  {
   "cell_type": "code",
   "execution_count": 35,
   "outputs": [],
   "source": [
    "from collections import Counter\n",
    "class Solution:\n",
    "    \"\"\"\n",
    "    思路：\n",
    "    1. 将字符串转化为字符列表\n",
    "    2. 对字符列表进行统计，按照字符->次数对字符列表\n",
    "    3. 输出两个字符字典中key相同，value不同的key\n",
    "    \"\"\"\n",
    "    def findTheDifference(self, s: str, t: str) -> str:\n",
    "        s_counter = Counter(s)\n",
    "        t_counter = Counter(t)\n",
    "        print(s_counter)\n",
    "        for val in t_counter:\n",
    "            if s_counter[val] != t_counter[val]:\n",
    "                print(val)\n"
   ],
   "metadata": {
    "collapsed": false,
    "pycharm": {
     "name": "#%%\n"
    }
   }
  },
  {
   "cell_type": "code",
   "execution_count": 36,
   "outputs": [
    {
     "name": "stdout",
     "output_type": "stream",
     "text": [
      "Counter({'s': 1, 'a': 1, 'f': 1})\n",
      "no\n",
      "no\n",
      "no\n",
      "e\n"
     ]
    }
   ],
   "source": [
    "solution = Solution()\n",
    "solution.findTheDifference(\"saf\",\"safe\")\n",
    "\n"
   ],
   "metadata": {
    "collapsed": false,
    "pycharm": {
     "name": "#%%\n"
    }
   }
  }
 ],
 "metadata": {
  "kernelspec": {
   "display_name": "Python 3",
   "language": "python",
   "name": "python3"
  },
  "language_info": {
   "codemirror_mode": {
    "name": "ipython",
    "version": 2
   },
   "file_extension": ".py",
   "mimetype": "text/x-python",
   "name": "python",
   "nbconvert_exporter": "python",
   "pygments_lexer": "ipython2",
   "version": "2.7.6"
  }
 },
 "nbformat": 4,
 "nbformat_minor": 0
}