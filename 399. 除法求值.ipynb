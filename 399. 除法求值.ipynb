{
 "cells": [
  {
   "cell_type": "markdown",
   "metadata": {
    "collapsed": true,
    "pycharm": {
     "name": "#%% md\n"
    }
   },
   "source": [
    "给你一个变量对数组 equations 和一个实数值数组 values 作为已知条件，其中 equations[i] = [Ai, Bi] 和 values[i] 共同表示等式 Ai / Bi = values[i] 。每个 Ai 或 Bi 是一个表示单个变量的字符串。\n",
    "\n",
    "另有一些以数组 queries 表示的问题，其中 queries[j] = [Cj, Dj] 表示第 j 个问题，请你根据已知条件找出 Cj / Dj = ? 的结果作为答案。\n",
    "\n",
    "返回 所有问题的答案 。如果存在某个无法确定的答案，则用 -1.0 替代这个答案。\n",
    "\n",
    " \n",
    "\n",
    "注意：输入总是有效的。你可以假设除法运算中不会出现除数为 0 的情况，且不存在任何矛盾的结果。\n",
    "\n",
    " \n",
    "```\n",
    "示例 1：\n",
    "\n",
    "输入：equations = [[\"a\",\"b\"],[\"b\",\"c\"]], values = [2.0,3.0], queries = [[\"a\",\"c\"],[\"b\",\"a\"],[\"a\",\"e\"],[\"a\",\"a\"],[\"x\",\"x\"]]\n",
    "输出：[6.00000,0.50000,-1.00000,1.00000,-1.00000]\n",
    "解释：\n",
    "条件：a / b = 2.0, b / c = 3.0\n",
    "问题：a / c = ?, b / a = ?, a / e = ?, a / a = ?, x / x = ?\n",
    "结果：[6.0, 0.5, -1.0, 1.0, -1.0 ]\n",
    "示例 2：\n",
    "\n",
    "输入：equations = [[\"a\",\"b\"],[\"b\",\"c\"],[\"bc\",\"cd\"]], values = [1.5,2.5,5.0], queries = [[\"a\",\"c\"],[\"c\",\"b\"],[\"bc\",\"cd\"],[\"cd\",\"bc\"]]\n",
    "输出：[3.75000,0.40000,5.00000,0.20000]\n",
    "示例 3：\n",
    "\n",
    "输入：equations = [[\"a\",\"b\"]], values = [0.5], queries = [[\"a\",\"b\"],[\"b\",\"a\"],[\"a\",\"c\"],[\"x\",\"y\"]]\n",
    "输出：[0.50000,2.00000,-1.00000,-1.00000]\n",
    "```\n",
    "来源：力扣（LeetCode）\n",
    "链接：https://leetcode-cn.com/problems/evaluate-division\n",
    "著作权归领扣网络所有。商业转载请联系官方授权，非商业转载请注明出处。\n"
   ]
  },
  {
   "cell_type": "code",
   "execution_count": null,
   "outputs": [],
   "source": [
    "from typing import List\n",
    "from collections import defaultdict\n",
    "class Solution:\n",
    "    def calcEquation(self, equations: List[List[str]], values: List[float], queries: List[List[str]]) -> List[float]:\n",
    "        # 创建图\n",
    "        graph = defaultdict(dict)\n",
    "        for (x,y), val in zip(equations, values):\n",
    "            graph[x][y] = val\n",
    "            graph[y][x] = 1/val\n",
    "\n",
    "        # 使用dfs遍历\n",
    "        res = []\n",
    "        for s, e in queries:\n",
    "            visited = set()\n",
    "            res.append(self.dfs(s, e, visited, graph))\n",
    "        return res\n",
    "\n",
    "    def dfs(self, start, end, visited, graph):\n",
    "        visited.add(start)\n",
    "        # 如果start节点不在图中\n",
    "        if start not in graph:\n",
    "            return -1\n",
    "        # 如果两个节点相同，则返回1\n",
    "        if start == end:\n",
    "            return 1\n",
    "        # 遍历以start节点的图\n",
    "        for w in graph[start]:\n",
    "            # 如果下一个节点是end\n",
    "            if w == end:\n",
    "                return graph[start][w]\n",
    "            # 如果不是要找的节点，且该节点不在visited数组中\n",
    "            elif w not in visited:\n",
    "                visited.add(w)\n",
    "                # 一次dfs结束，递归遍历\n",
    "                v = self.dfs(w, end, visited, graph)\n",
    "                # 如果值不为-1，即有解的情况\n",
    "                if v != -1:\n",
    "                    return graph[start][w]*v\n",
    "                # 如果一次走错，\n",
    "                else:\n",
    "                    pass\n",
    "        return -1\n",
    "\n",
    "\n",
    "\n"
   ],
   "metadata": {
    "collapsed": false,
    "pycharm": {
     "name": "#%%\n"
    }
   }
  }
 ],
 "metadata": {
  "kernelspec": {
   "display_name": "Python 3",
   "language": "python",
   "name": "python3"
  },
  "language_info": {
   "codemirror_mode": {
    "name": "ipython",
    "version": 2
   },
   "file_extension": ".py",
   "mimetype": "text/x-python",
   "name": "python",
   "nbconvert_exporter": "python",
   "pygments_lexer": "ipython2",
   "version": "2.7.6"
  }
 },
 "nbformat": 4,
 "nbformat_minor": 0
}