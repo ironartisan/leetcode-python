{
 "cells": [
  {
   "cell_type": "markdown",
   "metadata": {
    "collapsed": true,
    "pycharm": {
     "name": "#%% md\n"
    }
   },
   "source": [
    "给你一个整数数组 nums，有一个大小为 k 的滑动窗口从数组的最左侧移动到数组的最右侧。你只可以看到在滑动窗口内的 k 个数字。滑动窗口每次只向右移动一位。\n",
    "\n",
    "返回滑动窗口中的最大值。\n",
    " \n",
    "```\n",
    "示例 1：\n",
    "\n",
    "输入：nums = [1,3,-1,-3,5,3,6,7], k = 3\n",
    "输出：[3,3,5,5,6,7]\n",
    "解释：\n",
    "滑动窗口的位置                最大值\n",
    "---------------               -----\n",
    "[1  3  -1] -3  5  3  6  7       3\n",
    " 1 [3  -1  -3] 5  3  6  7       3\n",
    " 1  3 [-1  -3  5] 3  6  7       5\n",
    " 1  3  -1 [-3  5  3] 6  7       5\n",
    " 1  3  -1  -3 [5  3  6] 7       6\n",
    " 1  3  -1  -3  5 [3  6  7]      7\n",
    "示例 2：\n",
    "\n",
    "输入：nums = [1], k = 1\n",
    "输出：[1]\n",
    "示例 3：\n",
    "\n",
    "输入：nums = [1,-1], k = 1\n",
    "输出：[1,-1]\n",
    "示例 4：\n",
    "\n",
    "输入：nums = [9,11], k = 2\n",
    "输出：[11]\n",
    "示例 5：\n",
    "\n",
    "输入：nums = [4,-2], k = 2\n",
    "输出：[4]\n",
    "```\n",
    "来源：力扣（LeetCode）\n",
    "链接：https://leetcode-cn.com/problems/sliding-window-maximum\n",
    "著作权归领扣网络所有。商业转载请联系官方授权，非商业转载请注明出处。\n"
   ]
  },
  {
   "cell_type": "code",
   "execution_count": null,
   "outputs": [],
   "source": [
    "# 此种解法算法复杂度太高\n",
    "from typing import *\n",
    "class Solution:\n",
    "    \"\"\"\n",
    "    思路：\n",
    "    1.算出滑动窗口的个数\n",
    "    2.对数据进行分割，求出最大值\n",
    "    2.将结果进入到数组中\n",
    "    \"\"\"\n",
    "    def maxSlidingWindow(self, nums: List[int], k: int) -> List[int]:\n",
    "        n = len(nums)\n",
    "        if n<k:return []\n",
    "        # 算出有几个滑动窗口\n",
    "        step = n-k+1\n",
    "        res = []\n",
    "        for i in range(0, step, 1):\n",
    "            nums_seg = [nums[j] for j in range(i,i+k)]\n",
    "            res.append(max(nums_seg))\n",
    "        return res\n",
    "\n",
    "# 时间复杂度：O（nm）\n",
    "# 空间复杂度：O(n)"
   ],
   "metadata": {
    "collapsed": false,
    "pycharm": {
     "name": "#%%\n"
    }
   }
  },
  {
   "cell_type": "code",
   "execution_count": null,
   "outputs": [],
   "source": [
    "# 该算法超时\n",
    "class Solution:\n",
    "    \"\"\"\n",
    "    思路：\n",
    "    1.算出滑动窗口的个数\n",
    "    2.根据滑动窗口中k-1个数不变，只有一个数变化，找出其中的最大值\n",
    "    2.将结果进入到数组中\n",
    "    \"\"\"\n",
    "    def maxSlidingWindow(self, nums: List[int], k: int) -> List[int]:\n",
    "        n = len(nums)\n",
    "        if n<k:return []\n",
    "\n",
    "        res = []\n",
    "        max_val = max[:k]\n",
    "        for i in range(0, n-k, 1):\n",
    "            res.append(max_val)\n",
    "            # 新加的值大于temp\n",
    "            if nums[i+k] >max_val:\n",
    "                max_val = nums[i+k]\n",
    "            # 新加的值小于或等于temp\n",
    "            else:\n",
    "                # 如果最左侧的值等于temp\n",
    "                if nums[i] == max_val:\n",
    "                    max_val = max(nums[i+1:i+k+1])\n",
    "        # 添加最后一个最大值\n",
    "        res.append(max_val)\n",
    "        return res"
   ],
   "metadata": {
    "collapsed": false,
    "pycharm": {
     "name": "#%%\n"
    }
   }
  },
  {
   "cell_type": "code",
   "execution_count": null,
   "outputs": [],
   "source": [
    "import heapq\n",
    "class Solution:\n",
    "    \"\"\"\n",
    "    思路：\n",
    "    1.算出滑动窗口的个数\n",
    "    2.使用堆（优先队列）数据结构\n",
    "    2.将结果进入到数组中\n",
    "    \"\"\"\n",
    "    def maxSlidingWindow(self, nums: List[int], k: int) -> List[int]:\n",
    "        n = len(nums)\n",
    "        #  Python 默认的优先队列是小根堆\n",
    "        q = [(-nums[i], i) for i in range(k)]\n",
    "        heapq.heapify(q)\n",
    "        # 第一个滑动窗口的最大值\n",
    "        res =  [-q[0][0]]\n",
    "        for i in range(k,n):\n",
    "            # 输入后续的值\n",
    "            heapq.heappush(q, (-nums[i], i))\n",
    "            # 将不属于窗口的值pop\n",
    "            while(q[0][1]<= i -k):\n",
    "                heapq.heappop(q)\n",
    "            res.append(-q[0][0])\n",
    "        return res\n",
    "\n",
    "# 时间复杂度：O(nlogn)\n",
    "# 空间复杂度：O(n)O(n)，即为优先队列需要使用的空间\n",
    "# 参考链接https://leetcode-cn.com/problems/sliding-window-maximum/solution/hua-dong-chuang-kou-zui-da-zhi-by-leetco-ki6m/\n",
    "\n",
    "\n"
   ],
   "metadata": {
    "collapsed": false,
    "pycharm": {
     "name": "#%%\n"
    }
   }
  }
 ],
 "metadata": {
  "kernelspec": {
   "display_name": "Python 3",
   "language": "python",
   "name": "python3"
  },
  "language_info": {
   "codemirror_mode": {
    "name": "ipython",
    "version": 2
   },
   "file_extension": ".py",
   "mimetype": "text/x-python",
   "name": "python",
   "nbconvert_exporter": "python",
   "pygments_lexer": "ipython2",
   "version": "2.7.6"
  }
 },
 "nbformat": 4,
 "nbformat_minor": 0
}