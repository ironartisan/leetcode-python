{
 "cells": [
  {
   "cell_type": "markdown",
   "metadata": {
    "collapsed": true,
    "pycharm": {
     "name": "#%% md\n"
    }
   },
   "source": [
    "给定一个二叉树的根节点 root ，返回它的 中序 遍历。\n",
    "\n",
    " \n",
    "\n",
    "示例 1：\n",
    "\n",
    "\n",
    "输入：root = [1,null,2,3]\n",
    "输出：[1,3,2]\n",
    "示例 2：\n",
    "\n",
    "输入：root = []\n",
    "输出：[]\n",
    "示例 3：\n",
    "\n",
    "输入：root = [1]\n",
    "输出：[1]\n",
    "示例 4：\n",
    "\n",
    "\n",
    "输入：root = [1,2]\n",
    "输出：[2,1]\n",
    "示例 5：\n",
    "\n",
    "\n",
    "输入：root = [1,null,2]\n",
    "输出：[1,2]\n",
    "\n",
    "来源：力扣（LeetCode）\n",
    "链接：https://leetcode-cn.com/problems/binary-tree-inorder-traversal\n",
    "著作权归领扣网络所有。商业转载请联系官方授权，非商业转载请注明出处。"
   ]
  },
  {
   "cell_type": "code",
   "execution_count": null,
   "outputs": [],
   "source": [
    "from typing import List\n",
    "# Definition for a binary tree node.\n",
    "class TreeNode:\n",
    "    def __init__(self, val=0, left=None, right=None):\n",
    "        self.val = val\n",
    "        self.left = left\n",
    "        self.right = right\n",
    "class Solution:\n",
    "    \"\"\"\n",
    "    解题思路：\n",
    "    递归法\n",
    "    1. 定义一个中序遍历方法，每次将root的值添加到res数组中\n",
    "    2. 循环遍历方法\n",
    "\n",
    "    \"\"\"\n",
    "    def inorderTraversal(self, root: TreeNode) -> List[int]:\n",
    "\n",
    "        res = []\n",
    "\n",
    "        def inorder(root, res):\n",
    "            if not root:\n",
    "                    return\n",
    "            inorder(root.left, res)\n",
    "            res.append(root.val)\n",
    "            inorder(root.right, res)\n",
    "\n",
    "        inorder(root, res)\n",
    "        return res\n",
    "\n"
   ],
   "metadata": {
    "collapsed": false,
    "pycharm": {
     "name": "#%%\n"
    }
   }
  },
  {
   "cell_type": "code",
   "execution_count": null,
   "outputs": [],
   "source": [
    "from typing import List\n",
    "# Definition for a binary tree node.\n",
    "class TreeNode:\n",
    "    def __init__(self, val=0, left=None, right=None):\n",
    "        self.val = val\n",
    "        self.left = left\n",
    "        self.right = right\n",
    "class Solution:\n",
    "    \"\"\"\n",
    "    解题思路：\n",
    "    迭代法\n",
    "    1.\n",
    "    2.\n",
    "\n",
    "    \"\"\"\n",
    "    def inorderTraversal(self, root: TreeNode) -> List[int]:\n",
    "        res = []\n",
    "        stack = []\n",
    "        while stack or root:\n",
    "            if root:\n",
    "                stack.append(root)\n",
    "                root = root.left\n",
    "            else:\n",
    "                tmp = stack.pop()\n",
    "                res.append(tmp.val)\n",
    "                root = tmp.right\n",
    "        return res\n",
    "\n"
   ],
   "metadata": {
    "collapsed": false,
    "pycharm": {
     "name": "#%%\n"
    }
   }
  },
  {
   "cell_type": "code",
   "execution_count": null,
   "outputs": [],
   "source": [
    "\n"
   ],
   "metadata": {
    "collapsed": false,
    "pycharm": {
     "name": "#%%\n"
    }
   }
  }
 ],
 "metadata": {
  "kernelspec": {
   "display_name": "Python 3",
   "language": "python",
   "name": "python3"
  },
  "language_info": {
   "codemirror_mode": {
    "name": "ipython",
    "version": 2
   },
   "file_extension": ".py",
   "mimetype": "text/x-python",
   "name": "python",
   "nbconvert_exporter": "python",
   "pygments_lexer": "ipython2",
   "version": "2.7.6"
  }
 },
 "nbformat": 4,
 "nbformat_minor": 0
}