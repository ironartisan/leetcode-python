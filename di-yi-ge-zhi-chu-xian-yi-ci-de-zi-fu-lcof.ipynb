{
 "cells": [
  {
   "cell_type": "markdown",
   "metadata": {
    "collapsed": true,
    "pycharm": {
     "name": "#%% md\n"
    }
   },
   "source": [
    "在字符串 s 中找出第一个只出现一次的字符。如果没有，返回一个单空格。 s 只包含小写字母。\n",
    "\n",
    "示例:\n",
    "\n",
    "s = \"abaccdeff\"\n",
    "返回 \"b\"\n",
    "\n",
    "s = \"\"\n",
    "返回 \" \"\n",
    "\n",
    "来源：力扣（LeetCode）\n",
    "链接：https://leetcode-cn.com/problems/di-yi-ge-zhi-chu-xian-yi-ci-de-zi-fu-lcof\n",
    "著作权归领扣网络所有。商业转载请联系官方授权，非商业转载请注明出处。"
   ]
  },
  {
   "cell_type": "code",
   "execution_count": null,
   "outputs": [],
   "source": [
    "# 暴力解法\n",
    "class Solution:\n",
    "    def firstUniqChar(self, s: str) -> str:\n",
    "        if not s: return \" \"\n",
    "        uni_set = set()\n",
    "        repeat_list = []\n",
    "        for c in s:\n",
    "            if c not in uni_set:\n",
    "                uni_set.add(c)\n",
    "            else:\n",
    "                repeat_list.append(c)\n",
    "\n",
    "        for c in s:\n",
    "            if c not in repeat_list:\n",
    "                return c\n",
    "        return \" \""
   ],
   "metadata": {
    "collapsed": false,
    "pycharm": {
     "name": "#%%\n"
    }
   }
  },
  {
   "cell_type": "code",
   "execution_count": 3,
   "outputs": [],
   "source": [
    "import collections\n",
    "class Solution:\n",
    "    def firstUniqChar(self, s: str) -> str:\n",
    "        dic = collections.OrderedDict()\n",
    "        for c in s:\n",
    "            dic[c] = not c in dic\n",
    "            print(dic)\n",
    "        for k, v in dic.items():\n",
    "            if v: return k\n",
    "        return ' '"
   ],
   "metadata": {
    "collapsed": false,
    "pycharm": {
     "name": "#%%\n"
    }
   }
  },
  {
   "cell_type": "code",
   "execution_count": 4,
   "outputs": [
    {
     "name": "stdout",
     "output_type": "stream",
     "text": [
      "OrderedDict([('l', True)])\n",
      "OrderedDict([('l', True), ('e', True)])\n",
      "OrderedDict([('l', True), ('e', False)])\n",
      "OrderedDict([('l', True), ('e', False), ('t', True)])\n",
      "OrderedDict([('l', True), ('e', False), ('t', True), ('c', True)])\n",
      "OrderedDict([('l', True), ('e', False), ('t', True), ('c', True), ('o', True)])\n",
      "OrderedDict([('l', True), ('e', False), ('t', True), ('c', True), ('o', True), ('d', True)])\n",
      "OrderedDict([('l', True), ('e', False), ('t', True), ('c', True), ('o', True), ('d', True)])\n",
      "l\n"
     ]
    }
   ],
   "source": [
    "solution = Solution()\n",
    "test_char = solution.firstUniqChar(\"leetcode\")\n",
    "print(test_char)"
   ],
   "metadata": {
    "collapsed": false,
    "pycharm": {
     "name": "#%%\n"
    }
   }
  }
 ],
 "metadata": {
  "kernelspec": {
   "display_name": "Python 3",
   "language": "python",
   "name": "python3"
  },
  "language_info": {
   "codemirror_mode": {
    "name": "ipython",
    "version": 2
   },
   "file_extension": ".py",
   "mimetype": "text/x-python",
   "name": "python",
   "nbconvert_exporter": "python",
   "pygments_lexer": "ipython2",
   "version": "2.7.6"
  }
 },
 "nbformat": 4,
 "nbformat_minor": 0
}