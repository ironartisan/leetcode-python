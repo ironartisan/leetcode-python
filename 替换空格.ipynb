{
 "cells": [
  {
   "cell_type": "markdown",
   "metadata": {
    "collapsed": true,
    "pycharm": {
     "name": "#%% md\n"
    }
   },
   "source": [
    "剑指 Offer 05. 替换空格\n",
    "请实现一个函数，把字符串 s 中的每个空格替换成\"%20\"。\n",
    "\n",
    "\n",
    "示例 1：\n",
    "\n",
    "输入：s = \"We are happy.\"\n",
    "输出：\"We%20are%20happy.\"\n",
    "\n",
    "\n",
    "限制：\n",
    "\n",
    "0 <= s 的长度 <= 10000"
   ]
  },
  {
   "cell_type": "code",
   "execution_count": 4,
   "outputs": [],
   "source": [
    "class Solution:\n",
    "    \"\"\"\n",
    "    解题思路：\n",
    "    1 创建一个temp(list)\n",
    "    2 遍历字符\n",
    "      2.1 若不是空格，则添加到list\n",
    "      2.2 若是空格，则添加‘%’到list\n",
    "    3.字符拼接\n",
    "    \"\"\"\n",
    "    def replaceSpace(self, s: str) -> str:\n",
    "        temp = []\n",
    "        for c in s:\n",
    "            if c != ' ':\n",
    "                temp.append(c)\n",
    "            else:\n",
    "                temp.append('%20')\n",
    "        return ''.join(temp)"
   ],
   "metadata": {
    "collapsed": false,
    "pycharm": {
     "name": "#%%\n"
    }
   }
  },
  {
   "cell_type": "code",
   "execution_count": 6,
   "outputs": [],
   "source": [
    "# 使用迭代器解法\n",
    "class Solution:\n",
    "    def replaceSpace(self, s: str) -> str:\n",
    "        return ''.join(('%20' if c==' ' else c for c in s))"
   ],
   "metadata": {
    "collapsed": false,
    "pycharm": {
     "name": "#%%\n"
    }
   }
  },
  {
   "cell_type": "code",
   "execution_count": 7,
   "outputs": [
    {
     "data": {
      "text/plain": "'We%20are%20happy.'"
     },
     "execution_count": 7,
     "metadata": {},
     "output_type": "execute_result"
    }
   ],
   "source": [
    "s = \"We are happy.\"\n",
    "solution = Solution()\n",
    "solution.replaceSpace(s)\n",
    "\n",
    "# test\n"
   ],
   "metadata": {
    "collapsed": false,
    "pycharm": {
     "name": "#%%\n"
    }
   }
  }
 ],
 "metadata": {
  "kernelspec": {
   "display_name": "Python 3",
   "language": "python",
   "name": "python3"
  },
  "language_info": {
   "codemirror_mode": {
    "name": "ipython",
    "version": 2
   },
   "file_extension": ".py",
   "mimetype": "text/x-python",
   "name": "python",
   "nbconvert_exporter": "python",
   "pygments_lexer": "ipython2",
   "version": "2.7.6"
  }
 },
 "nbformat": 4,
 "nbformat_minor": 0
}