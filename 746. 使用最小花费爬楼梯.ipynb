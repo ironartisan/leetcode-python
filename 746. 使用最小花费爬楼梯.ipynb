{
 "cells": [
  {
   "cell_type": "markdown",
   "metadata": {
    "collapsed": true,
    "pycharm": {
     "name": "#%% md\n"
    }
   },
   "source": [
    "数组的每个索引作为一个阶梯，第 i个阶梯对应着一个非负数的体力花费值 cost[i](索引从0开始)。\n",
    "\n",
    "每当你爬上一个阶梯你都要花费对应的体力花费值，然后你可以选择继续爬一个阶梯或者爬两个阶梯。\n",
    "\n",
    "您需要找到达到楼层顶部的最低花费。在开始时，你可以选择从索引为 0 或 1 的元素作为初始阶梯。\n",
    "\n",
    "示例 1:\n",
    "\n",
    "输入: cost = [10, 15, 20]\n",
    "输出: 15\n",
    "解释: 最低花费是从cost[1]开始，然后走两步即可到阶梯顶，一共花费15。\n",
    " 示例 2:\n",
    "\n",
    "输入: cost = [1, 100, 1, 1, 1, 100, 1, 1, 100, 1]\n",
    "输出: 6\n",
    "解释: 最低花费方式是从cost[0]开始，逐个经过那些1，跳过cost[3]，一共花费6。\n",
    "\n",
    "来源：力扣（LeetCode）\n",
    "链接：https://leetcode-cn.com/problems/min-cost-climbing-stairs\n",
    "著作权归领扣网络所有。商业转载请联系官方授权，非商业转载请注明出处。"
   ]
  },
  {
   "cell_type": "code",
   "execution_count": null,
   "outputs": [],
   "source": [
    "from typing import List\n",
    "class Solution:\n",
    "    \"\"\"\n",
    "    动态规划求解\n",
    "    \"\"\"\n",
    "    def minCostClimbingStairs(self, cost: List[int]) -> int:\n",
    "        n = len(cost)\n",
    "        dp = [0] * (n + 1)\n",
    "        for i in range(2, n+1):\n",
    "            dp[i] = min(dp[i-1]+cost[i-1], dp[i] + cost[i])\n",
    "        return dp[n]\n",
    "\n",
    "# 时间复杂度O(n)\n",
    "# 空间复杂度 O(n)"
   ],
   "metadata": {
    "collapsed": false,
    "pycharm": {
     "name": "#%%\n"
    }
   }
  },
  {
   "cell_type": "code",
   "execution_count": null,
   "outputs": [],
   "source": [
    "from typing import List\n",
    "class Solution:\n",
    "    \"\"\"\n",
    "    动态规划求解，使用滚动数组的方式\n",
    "    \"\"\"\n",
    "    def minCostClimbingStairs(self, cost: List[int]) -> int:\n",
    "        n = len(cost)\n",
    "        cur,pre = 0,0\n",
    "        for i in range(2, n+1):\n",
    "            nxt = min(cur + cost[i-1], pre + cost[i-2])\n",
    "            cur,pre = nxt,cur\n",
    "        return cur\n",
    "\n"
   ],
   "metadata": {
    "collapsed": false,
    "pycharm": {
     "name": "#%%\n"
    }
   }
  }
 ],
 "metadata": {
  "kernelspec": {
   "display_name": "Python 3",
   "language": "python",
   "name": "python3"
  },
  "language_info": {
   "codemirror_mode": {
    "name": "ipython",
    "version": 2
   },
   "file_extension": ".py",
   "mimetype": "text/x-python",
   "name": "python",
   "nbconvert_exporter": "python",
   "pygments_lexer": "ipython2",
   "version": "2.7.6"
  }
 },
 "nbformat": 4,
 "nbformat_minor": 0
}