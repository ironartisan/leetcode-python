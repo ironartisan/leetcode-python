{
 "cells": [
  {
   "cell_type": "markdown",
   "metadata": {
    "collapsed": true,
    "pycharm": {
     "name": "#%% md\n"
    }
   },
   "source": [
    "有一堆石头，每块石头的重量都是正整数。\n",
    "\n",
    "每一回合，从中选出两块 最重的 石头，然后将它们一起粉碎。假设石头的重量分别为 x 和 y，且 x <= y。那么粉碎的可能结果如下：\n",
    "\n",
    "如果 x == y，那么两块石头都会被完全粉碎；\n",
    "如果 x != y，那么重量为 x 的石头将会完全粉碎，而重量为 y 的石头新重量为 y-x。\n",
    "最后，最多只会剩下一块石头。返回此石头的重量。如果没有石头剩下，就返回 0。\n",
    "```\n",
    "示例：\n",
    "\n",
    "输入：[2,7,4,1,8,1]\n",
    "输出：1\n",
    "解释：\n",
    "先选出 7 和 8，得到 1，所以数组转换为 [2,4,1,1,1]，\n",
    "再选出 2 和 4，得到 2，所以数组转换为 [2,1,1,1]，\n",
    "接着是 2 和 1，得到 1，所以数组转换为 [1,1,1]，\n",
    "最后选出 1 和 1，得到 0，最终数组转换为 [1]，这就是最后剩下那块石头的重量。\n",
    "```\n",
    "来源：力扣（LeetCode）\n",
    "链接：https://leetcode-cn.com/problems/last-stone-weight\n",
    "著作权归领扣网络所有。商业转载请联系官方授权，非商业转载请注明出处。\n"
   ]
  },
  {
   "cell_type": "code",
   "execution_count": null,
   "outputs": [],
   "source": [
    "from typing import List\n",
    "class Solution:\n",
    "    \"\"\"\n",
    "    思路：\n",
    "    1. 当数组长度大于1时，循环条件\n",
    "    2. 每次对数组排序，取出最大的两个数\n",
    "    3. 如果取出的两个数不相等，则把插值添加到数组中\n",
    "    \"\"\"\n",
    "    def lastStoneWeight(self, stones: List[int]) -> int:\n",
    "\n",
    "        num = len(stones)\n",
    "        # 循环\n",
    "        while(num >1):\n",
    "            stones =sorted(stones)\n",
    "            last_one = stones.pop(-1)\n",
    "            last_two = stones.pop(-1)\n",
    "            val = abs(last_one - last_two)\n",
    "            if val != 0:\n",
    "                stones.append(val)\n",
    "            num = len(stones)\n",
    "        if num ==1:\n",
    "            return stones[0]\n",
    "        if num == 0:\n",
    "            return 0\n"
   ],
   "metadata": {
    "collapsed": false,
    "pycharm": {
     "name": "#%%\n"
    }
   }
  }
 ],
 "metadata": {
  "kernelspec": {
   "display_name": "Python 3",
   "language": "python",
   "name": "python3"
  },
  "language_info": {
   "codemirror_mode": {
    "name": "ipython",
    "version": 2
   },
   "file_extension": ".py",
   "mimetype": "text/x-python",
   "name": "python",
   "nbconvert_exporter": "python",
   "pygments_lexer": "ipython2",
   "version": "2.7.6"
  }
 },
 "nbformat": 4,
 "nbformat_minor": 0
}