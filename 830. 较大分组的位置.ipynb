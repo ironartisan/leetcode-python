{
 "cells": [
  {
   "cell_type": "markdown",
   "metadata": {
    "collapsed": true,
    "pycharm": {
     "name": "#%% md\n"
    }
   },
   "source": [
    "在一个由小写字母构成的字符串 s 中，包含由一些连续的相同字符所构成的分组。\n",
    "\n",
    "例如，在字符串 s = \"abbxxxxzyy\" 中，就含有 \"a\", \"bb\", \"xxxx\", \"z\" 和 \"yy\" 这样的一些分组。\n",
    "\n",
    "分组可以用区间 [start, end] 表示，其中 start 和 end 分别表示该分组的起始和终止位置的下标。上例中的 \"xxxx\" 分组用区间表示为 [3,6] 。\n",
    "\n",
    "我们称所有包含大于或等于三个连续字符的分组为 较大分组 。\n",
    "\n",
    "找到每一个 较大分组 的区间，按起始位置下标递增顺序排序后，返回结果。\n",
    "```\n",
    "示例 1：\n",
    "\n",
    "输入：s = \"abbxxxxzzy\"\n",
    "输出：[[3,6]]\n",
    "解释：\"xxxx\" 是一个起始于 3 且终止于 6 的较大分组。\n",
    "示例 2：\n",
    "\n",
    "输入：s = \"abc\"\n",
    "输出：[]\n",
    "解释：\"a\",\"b\" 和 \"c\" 均不是符合要求的较大分组。\n",
    "示例 3：\n",
    "\n",
    "输入：s = \"abcdddeeeeaabbbcd\"\n",
    "输出：[[3,5],[6,9],[12,14]]\n",
    "解释：较大分组为 \"ddd\", \"eeee\" 和 \"bbb\"\n",
    "示例 4：\n",
    "\n",
    "输入：s = \"aba\"\n",
    "输出：[]\n",
    "```\n",
    "来源：力扣（LeetCode）\n",
    "链接：https://leetcode-cn.com/problems/positions-of-large-groups\n",
    "著作权归领扣网络所有。商业转载请联系官方授权，非商业转载请注明出处。"
   ]
  },
  {
   "cell_type": "code",
   "execution_count": null,
   "outputs": [],
   "source": [
    "from typing import List\n",
    "class Solution:\n",
    "    \"\"\"\n",
    "    思路：\n",
    "    1. 遍历字符串\n",
    "        1.1 如果字符串到了末尾或前后两个字符不相等，判断num的值\n",
    "        1.2 否则num+1\n",
    "    \"\"\"\n",
    "    def largeGroupPositions(self, s: str) -> List[List[int]]:\n",
    "        res = list()\n",
    "        n,num = len(s), 1\n",
    "        for i  in range(n):\n",
    "            # 还需要注意两个判断条件的顺序\n",
    "            if i == n-1 or s[i] != s[i+1]:\n",
    "                if num >2:\n",
    "                    res.append([i-num+1, i])\n",
    "                num = 1\n",
    "            else:\n",
    "                num +=1\n",
    "        return res\n",
    "\n",
    "# 时间复杂度O(n)\n",
    "# 空间复杂度O(1)\n"
   ],
   "metadata": {
    "collapsed": false,
    "pycharm": {
     "name": "#%%\n"
    }
   }
  },
  {
   "cell_type": "code",
   "execution_count": null,
   "outputs": [],
   "source": [
    "from typing import List\n",
    "class Solution:\n",
    "    def largeGroupPositions(self, s: str) -> List[List[int]]:\n",
    "        n,left = len(s),0\n",
    "        res = []\n",
    "        #\n",
    "        while left<n:\n",
    "            count = 0\n",
    "            # 统计相同字符串的长度\n",
    "            while left+count < n and s[left] == s[left+count]:\n",
    "                count +=1\n",
    "            if count >2:\n",
    "                res.append([left, left+count-1])\n",
    "            # 更新下一个字符串的左边边界\n",
    "            left = left + count\n",
    "        return res\n",
    "\n",
    "\n",
    "\n"
   ],
   "metadata": {
    "collapsed": false,
    "pycharm": {
     "name": "#%%\n"
    }
   }
  }
 ],
 "metadata": {
  "kernelspec": {
   "display_name": "Python 3",
   "language": "python",
   "name": "python3"
  },
  "language_info": {
   "codemirror_mode": {
    "name": "ipython",
    "version": 2
   },
   "file_extension": ".py",
   "mimetype": "text/x-python",
   "name": "python",
   "nbconvert_exporter": "python",
   "pygments_lexer": "ipython2",
   "version": "2.7.6"
  }
 },
 "nbformat": 4,
 "nbformat_minor": 0
}