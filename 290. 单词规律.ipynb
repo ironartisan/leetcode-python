{
 "cells": [
  {
   "cell_type": "markdown",
   "metadata": {
    "collapsed": true,
    "pycharm": {
     "name": "#%% md\n"
    }
   },
   "source": [
    "90. 单词规律\n",
    "给定一种规律 pattern 和一个字符串 str ，判断 str 是否遵循相同的规律。\n",
    "\n",
    "这里的 遵循 指完全匹配，例如， pattern 里的每个字母和字符串 str 中的每个非空单词之间存在着双向连接的对应规律。\n",
    "\n",
    "示例1:\n",
    "\n",
    "输入: pattern = \"abba\", str = \"dog cat cat dog\"\n",
    "输出: true\n",
    "示例 2:\n",
    "\n",
    "输入:pattern = \"abba\", str = \"dog cat cat fish\"\n",
    "输出: false\n",
    "示例 3:\n",
    "\n",
    "输入: pattern = \"aaaa\", str = \"dog cat cat dog\"\n",
    "输出: false\n",
    "示例 4:\n",
    "\n",
    "输入: pattern = \"abba\", str = \"dog dog dog dog\"\n",
    "输出: false"
   ]
  },
  {
   "cell_type": "code",
   "execution_count": null,
   "outputs": [],
   "source": [
    "class Solution:\n",
    "    \"\"\"\n",
    "    解题思路：\n",
    "    1.利用哈希表记录每一个字符对应的字符串，以及每一个字符串对应的字符\n",
    "    2.枚举每一对的配对过程，不断更新哈希表\n",
    "    \"\"\"\n",
    "    def wordPattern(self, pattern: str, s: str) -> bool:\n",
    "        word2ch = dict()\n",
    "        ch2word = dict()\n",
    "        words = s.split()\n",
    "        if len(words) != len(pattern):\n",
    "            return False\n",
    "        for ch,word in zip(pattern, words):\n",
    "            if(ch in ch2word and ch2word['ch'!= word ]) or\n",
    "                (word in word2ch and word2ch['word'] != word])\n",
    "                return False\n",
    "            word2ch['word'] = ch\n",
    "            ch2word['ch'] = word\n",
    "        return True"
   ],
   "metadata": {
    "collapsed": false,
    "pycharm": {
     "name": "#%%\n"
    }
   }
  },
  {
   "cell_type": "markdown",
   "source": [
    "时间复杂度：O(n)\n",
    "\n",
    "空间复杂度：O(n+m)\n",
    "\n",
    "\n"
   ],
   "metadata": {
    "collapsed": false,
    "pycharm": {
     "name": "#%% md\n"
    }
   }
  }
 ],
 "metadata": {
  "kernelspec": {
   "display_name": "Python 3",
   "language": "python",
   "name": "python3"
  },
  "language_info": {
   "codemirror_mode": {
    "name": "ipython",
    "version": 2
   },
   "file_extension": ".py",
   "mimetype": "text/x-python",
   "name": "python",
   "nbconvert_exporter": "python",
   "pygments_lexer": "ipython2",
   "version": "2.7.6"
  }
 },
 "nbformat": 4,
 "nbformat_minor": 0
}