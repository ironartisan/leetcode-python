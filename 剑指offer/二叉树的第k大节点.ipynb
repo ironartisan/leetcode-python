{
 "cells": [
  {
   "cell_type": "markdown",
   "metadata": {
    "collapsed": true,
    "pycharm": {
     "name": "#%% md\n"
    }
   },
   "source": [
    "剑指 Offer 54. 二叉搜索树的第k大节点\n",
    "给定一棵二叉搜索树，请找出其中第k大的节点。\n",
    "\n",
    "示例 1:\n",
    "\n",
    "输入: root = [3,1,4,null,2], k = 1\n",
    "   3\n",
    "  / \\\n",
    " 1   4\n",
    "  \\\n",
    "   2\n",
    "输出: 4\n",
    "示例 2:\n",
    "\n",
    "输入: root = [5,3,6,2,4,null,null,1], k = 3\n",
    "       5\n",
    "      / \\\n",
    "     3   6\n",
    "    / \\\n",
    "   2   4\n",
    "  /\n",
    " 1\n",
    "输出: 4"
   ]
  },
  {
   "cell_type": "code",
   "execution_count": null,
   "outputs": [],
   "source": [
    "# Definition for a binary tree node.\n",
    "class TreeNode:\n",
    "    def __init__(self, x):\n",
    "        self.val = x\n",
    "        self.left = None\n",
    "        self.right = None\n",
    "\n",
    "class Solution:\n",
    "    \"\"\"\n",
    "    解题思路：\n",
    "本文解法基于此性质：二叉搜索树的中序遍历为 递增序列 。\n",
    "\n",
    "根据以上性质，易得二叉搜索树的 中序遍历倒序 为 递减序列 。\n",
    "因此，求 “二叉搜索树第 k 大的节点” 可转化为求 “此树的中序遍历倒序的第 k 个节点”。\n",
    "    \"\"\"\n",
    "    def kthLargest(self, root: TreeNode, k: int) -> int:\n",
    "        # 中序遍历倒序\n",
    "        def dfs(root):\n",
    "            if not root:return\n",
    "            # 先遍历右子树\n",
    "            dfs(root.right)\n",
    "            # k为0，代表已找到目标节点\n",
    "            if self.k ==0:return\n",
    "            # 否则k-1\n",
    "            self.k -=1\n",
    "            if self.k ==0:self.res = root.val\n",
    "            dfs(root.left)\n",
    "        self.k = k\n",
    "        dfs(root)\n",
    "        return self.res"
   ],
   "metadata": {
    "collapsed": false,
    "pycharm": {
     "name": "#%%\n"
    }
   }
  }
 ],
 "metadata": {
  "kernelspec": {
   "display_name": "Python 3",
   "language": "python",
   "name": "python3"
  },
  "language_info": {
   "codemirror_mode": {
    "name": "ipython",
    "version": 2
   },
   "file_extension": ".py",
   "mimetype": "text/x-python",
   "name": "python",
   "nbconvert_exporter": "python",
   "pygments_lexer": "ipython2",
   "version": "2.7.6"
  }
 },
 "nbformat": 4,
 "nbformat_minor": 0
}