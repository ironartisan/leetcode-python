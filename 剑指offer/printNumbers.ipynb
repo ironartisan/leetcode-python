{
 "cells": [
  {
   "cell_type": "markdown",
   "metadata": {
    "collapsed": true,
    "pycharm": {
     "name": "#%% md\n"
    }
   },
   "source": [
    "剑指 Offer 17. 打印从1到最大的n位数\n",
    "输入数字 n，按顺序打印出从 1 到最大的 n 位十进制数。比如输入 3，则打印出 1、2、3 一直到最大的 3 位数 999。\n",
    "\n",
    "示例 1:\n",
    "\n",
    "输入: n = 1\n",
    "输出: [1,2,3,4,5,6,7,8,9]\n",
    "\n",
    "\n",
    "说明：\n",
    "\n",
    "用返回一个整数列表来代替打印\n",
    "n 为正整数"
   ]
  },
  {
   "cell_type": "code",
   "execution_count": 11,
   "outputs": [],
   "source": [
    "from typing import List\n",
    "import math\n",
    "class Solution:\n",
    "    def printNumbers(self, n: int) -> List[int]:\n",
    "        nums = []\n",
    "        # 最大的数是10的n次方\n",
    "        max_num = int(math.pow(10, n))\n",
    "        for i in range(1, max_num):\n",
    "            nums.append(i)\n",
    "        return nums\n",
    "\n"
   ],
   "metadata": {
    "collapsed": false,
    "pycharm": {
     "name": "#%%\n"
    }
   }
  },
  {
   "cell_type": "code",
   "execution_count": 13,
   "outputs": [
    {
     "name": "stdout",
     "output_type": "stream",
     "text": [
      "10\n",
      "9\n"
     ]
    }
   ],
   "source": [
    "n = 1\n",
    "solution = Solution()\n",
    "solution.printNumbers(n)\n",
    "\n"
   ],
   "metadata": {
    "collapsed": false,
    "pycharm": {
     "name": "#%%\n"
    }
   }
  }
 ],
 "metadata": {
  "kernelspec": {
   "display_name": "Python 3",
   "language": "python",
   "name": "python3"
  },
  "language_info": {
   "codemirror_mode": {
    "name": "ipython",
    "version": 2
   },
   "file_extension": ".py",
   "mimetype": "text/x-python",
   "name": "python",
   "nbconvert_exporter": "python",
   "pygments_lexer": "ipython2",
   "version": "2.7.6"
  }
 },
 "nbformat": 4,
 "nbformat_minor": 0
}