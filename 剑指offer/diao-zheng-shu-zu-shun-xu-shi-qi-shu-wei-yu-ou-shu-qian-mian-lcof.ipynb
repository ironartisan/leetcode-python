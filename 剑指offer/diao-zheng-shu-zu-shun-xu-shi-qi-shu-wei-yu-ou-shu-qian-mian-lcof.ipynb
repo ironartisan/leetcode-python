{
 "cells": [
  {
   "cell_type": "markdown",
   "metadata": {
    "collapsed": true,
    "pycharm": {
     "name": "#%% md\n"
    }
   },
   "source": [
    "剑指 Offer 21. 调整数组顺序使奇数位于偶数前面\n",
    "输入一个整数数组，实现一个函数来调整该数组中数字的顺序，使得所有奇数位于数组的前半部分，所有偶数位于数组的后半部分。\n",
    "\n",
    "\n",
    "\n",
    "示例：\n",
    "\n",
    "输入：nums = [1,2,3,4]\n",
    "输出：[1,3,2,4]\n",
    "注：[3,1,2,4] 也是正确的答案之一。"
   ]
  },
  {
   "cell_type": "code",
   "source": [
    "# 个人解法\n",
    "from typing import List\n",
    "class Solution:\n",
    "    def exchange(self, nums: List[int]) -> List[int]:\n",
    "        if len(nums) == 0: return []\n",
    "        olst = []\n",
    "        jlst = []\n",
    "        for num in nums:\n",
    "            # 偶数\n",
    "            if num%2 ==0:\n",
    "                olst.append(num)\n",
    "            # 奇数\n",
    "            else:\n",
    "                jlst.append(num)\n",
    "        # 遍历偶数数组\n",
    "        for num in olst:\n",
    "            jlst.append(num)\n",
    "        return jlst\n"
   ],
   "metadata": {
    "collapsed": false,
    "pycharm": {
     "name": "#%%\n"
    }
   },
   "execution_count": null,
   "outputs": []
  },
  {
   "cell_type": "code",
   "execution_count": 16,
   "outputs": [],
   "source": [
    "# 最佳解法，利用双指针\n",
    "from typing import List\n",
    "class Solution:\n",
    "    def exchange(self, nums: List[int]) -> List[int]:\n",
    "        i, j = 0, len(nums)-1\n",
    "        while i<j:\n",
    "            while i<j and nums[i] & 1 == 1:i += 1\n",
    "            while i<j and nums[j] & 1 == 0: j -= 1\n",
    "            nums[i], nums[j] = nums[j], nums[i]\n",
    "        return nums"
   ],
   "metadata": {
    "collapsed": false,
    "pycharm": {
     "name": "#%%\n"
    }
   }
  },
  {
   "cell_type": "code",
   "execution_count": 18,
   "outputs": [
    {
     "name": "stdout",
     "output_type": "stream",
     "text": [
      "[1, 5, 3, 4, 2, 6]\n"
     ]
    }
   ],
   "source": [
    "# test\n",
    "nums = [1,2,3,4,5,6]\n",
    "solution = Solution()\n",
    "exchange_nums = solution.exchange(nums)\n",
    "print(exchange_nums)"
   ],
   "metadata": {
    "collapsed": false,
    "pycharm": {
     "name": "#%%\n"
    }
   }
  },
  {
   "cell_type": "code",
   "execution_count": null,
   "outputs": [],
   "source": [
    "\n"
   ],
   "metadata": {
    "collapsed": false,
    "pycharm": {
     "name": "#%%\n"
    }
   }
  }
 ],
 "metadata": {
  "kernelspec": {
   "display_name": "Python 3",
   "language": "python",
   "name": "python3"
  },
  "language_info": {
   "codemirror_mode": {
    "name": "ipython",
    "version": 2
   },
   "file_extension": ".py",
   "mimetype": "text/x-python",
   "name": "python",
   "nbconvert_exporter": "python",
   "pygments_lexer": "ipython2",
   "version": "2.7.6"
  }
 },
 "nbformat": 4,
 "nbformat_minor": 0
}