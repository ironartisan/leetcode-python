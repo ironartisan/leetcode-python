{
 "cells": [
  {
   "cell_type": "markdown",
   "metadata": {
    "collapsed": true,
    "pycharm": {
     "name": "#%% md\n"
    }
   },
   "source": [
    "剑指 Offer 29. 顺时针打印矩阵\n",
    "输入一个矩阵，按照从外向里以顺时针的顺序依次打印出每一个数字。\n",
    "\n",
    "\n",
    "\n",
    "示例 1：\n",
    "\n",
    "输入：matrix = [[1,2,3],[4,5,6],[7,8,9]]\n",
    "123\n",
    "456\n",
    "789\n",
    "输出：[1,2,3,6,9,8,7,4,5]\n",
    "示例 2：\n",
    "\n",
    "输入：matrix = [[1,2,3,4],[5,6,7,8],[9,10,11,12]]\n",
    "1 2 3 4\n",
    "5 6 7 8\n",
    "9 10 11 12\n",
    "输出：[1,2,3,4,8,12,11,10,9,5,6,7]\n",
    "\n",
    "\n",
    "限制：\n",
    "\n",
    "0 <= matrix.length <= 100\n",
    "0 <= matrix[i].length <= 100"
   ]
  },
  {
   "cell_type": "code",
   "execution_count": null,
   "outputs": [],
   "source": [
    "from typing import List\n",
    "class Solution:\n",
    "    \"\"\"\n",
    "    解法：\n",
    "    1. 遍历第一行后遍历最后一列\n",
    "    2. 最后一行反过来遍历\n",
    "    3.遍历中间行\n",
    "    \"\"\"\n",
    "class Solution:\n",
    "    def spiralOrder(self, matrix:[[int]]) -> [int]:\n",
    "        if not matrix: return []\n",
    "        l, r, t, b, res = 0, len(matrix[0]) - 1, 0, len(matrix) - 1, []\n",
    "        while True:\n",
    "            for i in range(l, r + 1): res.append(matrix[t][i]) # left to right\n",
    "            t += 1\n",
    "            if t > b: break\n",
    "            for i in range(t, b + 1): res.append(matrix[i][r]) # top to bottom\n",
    "            r -= 1\n",
    "            if l > r: break\n",
    "            for i in range(r, l - 1, -1): res.append(matrix[b][i]) # right to left\n",
    "            b -= 1\n",
    "            if t > b: break\n",
    "            for i in range(b, t - 1, -1): res.append(matrix[i][l]) # bottom to top\n",
    "            l += 1\n",
    "            if l > r: break\n",
    "        return res"
   ],
   "metadata": {
    "collapsed": false,
    "pycharm": {
     "name": "#%%\n"
    }
   }
  },
  {
   "cell_type": "code",
   "execution_count": 3,
   "outputs": [],
   "source": [
    "from typing import List\n",
    "class Solution:\n",
    "    \"\"\"\n",
    "    解法：\n",
    "    空值处理： 当 matrix 为空时，直接返回空列表 [] 即可。\n",
    "    初始化： 矩阵 左、右、上、下 四个边界 l , r , t , b ，用于打印的结果列表 res 。\n",
    "    循环打印： “从左向右、从上向下、从右向左、从下向上” 四个方向循环，每个方向打印中做以下三件事 （各方向的具体信息见下表） ；\n",
    "    根据边界打印，即将元素按顺序添加至列表 res 尾部；\n",
    "    边界向内收缩 111 （代表已被打印）；\n",
    "    判断是否打印完毕（边界是否相遇），若打印完毕则跳出。\n",
    "    \"\"\"\n",
    "class Solution:\n",
    "    def spiralOrder(self, matrix:[[int]]) -> [int]:\n",
    "        if not matrix: return []\n",
    "        #\n",
    "        l, r, t, b, res = 0, len(matrix[0]) -1, 0, len(matrix)-1, []\n",
    "        while True:\n",
    "            # left to right\n",
    "            for i in range(l,r+1):res.append(matrix[t][i])\n",
    "            # top+1\n",
    "            t +=1\n",
    "            if t >b: break\n",
    "            # top to bottom\n",
    "            for i in range(t, b+1): res.append(matrix[i][r])\n",
    "            # right-1\n",
    "            r -=1\n",
    "            if  r< l: break\n",
    "            # right to left\n",
    "            for i in range(r ,l-1, -1):res.append(matrix[b][i])\n",
    "            # bottom-1\n",
    "            b -=1\n",
    "            if b<t:break\n",
    "            # bottom to top\n",
    "            for i in range(b,t-1,-1):res.append(matrix[i][l])\n",
    "            # left+1\n",
    "            l +=1\n",
    "            if l>r:break\n",
    "        return res"
   ],
   "metadata": {
    "collapsed": false,
    "pycharm": {
     "name": "#%%\n"
    }
   }
  },
  {
   "cell_type": "code",
   "execution_count": 9,
   "outputs": [
    {
     "name": "stdout",
     "output_type": "stream",
     "text": [
      "5\n",
      "4\n",
      "3\n",
      "2\n"
     ]
    }
   ],
   "source": [
    "for i in range(5, 1,-1):\n",
    "    print(i)"
   ],
   "metadata": {
    "collapsed": false,
    "pycharm": {
     "name": "#%%\n"
    }
   }
  },
  {
   "cell_type": "code",
   "execution_count": 4,
   "outputs": [
    {
     "data": {
      "text/plain": "[1, 2, 3, 6, 9, 8, 7, 4, 5]"
     },
     "execution_count": 4,
     "metadata": {},
     "output_type": "execute_result"
    }
   ],
   "source": [
    "# test\n",
    "matrix = [[1,2,3],[4,5,6],[7,8,9]]\n",
    "solution = Solution()\n",
    "solution.spiralOrder(matrix)\n"
   ],
   "metadata": {
    "collapsed": false,
    "pycharm": {
     "name": "#%%\n"
    }
   }
  }
 ],
 "metadata": {
  "kernelspec": {
   "display_name": "Python 3",
   "language": "python",
   "name": "python3"
  },
  "language_info": {
   "codemirror_mode": {
    "name": "ipython",
    "version": 2
   },
   "file_extension": ".py",
   "mimetype": "text/x-python",
   "name": "python",
   "nbconvert_exporter": "python",
   "pygments_lexer": "ipython2",
   "version": "2.7.6"
  }
 },
 "nbformat": 4,
 "nbformat_minor": 0
}