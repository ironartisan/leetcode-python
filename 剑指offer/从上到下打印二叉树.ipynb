{
 "cells": [
  {
   "cell_type": "markdown",
   "metadata": {
    "collapsed": true,
    "pycharm": {
     "name": "#%% md\n"
    }
   },
   "source": [
    "剑指 Offer 32 - I. 从上到下打印二叉树\n",
    "从上到下打印出二叉树的每个节点，同一层的节点按照从左到右的顺序打印。\n",
    "\n",
    "\n",
    "\n",
    "例如:\n",
    "给定二叉树: [3,9,20,null,null,15,7],\n",
    "\n",
    "    3\n",
    "   / \\\n",
    "  9  20\n",
    "    /  \\\n",
    "   15   7\n",
    "返回：\n",
    "\n",
    "[3,9,20,15,7]\n",
    "\n",
    "\n",
    "提示：\n",
    "\n",
    "节点总数 <= 1000"
   ]
  },
  {
   "cell_type": "code",
   "execution_count": null,
   "outputs": [],
   "source": [
    "# 从上到下打印，即广度优先遍历（BFS）\n",
    "from typing import List\n",
    "import collections\n",
    "# Definition for a binary tree node.\n",
    "class TreeNode:\n",
    "    def __init__(self, x):\n",
    "        self.val = x\n",
    "        self.left = None\n",
    "        self.right = None\n",
    "\n",
    "class Solution:\n",
    "    def levelOrder(self, root: TreeNode) -> List[int]:\n",
    "        if not root: return []\n",
    "        tree_list,queue = [],collections.deque()\n",
    "        # 加入第一个根节点\n",
    "        queue.append(root)\n",
    "        while queue:\n",
    "            # deque是双端队列，popleft\n",
    "            node = queue.popleft()\n",
    "            tree_list.append(node.val)\n",
    "            if node.left:\n",
    "                queue.append(node.left)\n",
    "            if node.right:\n",
    "                queue.append(node.right)\n",
    "        return tree_list"
   ],
   "metadata": {
    "collapsed": false,
    "pycharm": {
     "name": "#%%\n"
    }
   }
  },
  {
   "cell_type": "markdown",
   "source": [
    "剑指 Offer 32 - II. 从上到下打印二叉树 II\n",
    "从上到下按层打印二叉树，同一层的节点按从左到右的顺序打印，每一层打印到一行。\n",
    "\n",
    "\n",
    "\n",
    "例如:\n",
    "给定二叉树: [3,9,20,null,null,15,7],\n",
    "\n",
    "    3\n",
    "   / \\\n",
    "  9  20\n",
    "    /  \\\n",
    "   15   7\n",
    "返回其层次遍历结果：\n",
    "\n",
    "[\n",
    "  [3],\n",
    "  [9,20],\n",
    "  [15,7]\n",
    "]"
   ],
   "metadata": {
    "collapsed": false,
    "pycharm": {
     "name": "#%% md\n"
    }
   }
  },
  {
   "cell_type": "code",
   "execution_count": null,
   "outputs": [],
   "source": [
    "# 从上到下打印，即广度优先遍历（BFS）\n",
    "from typing import List\n",
    "import collections\n",
    "# Definition for a binary tree node.\n",
    "class TreeNode:\n",
    "    def __init__(self, x):\n",
    "        self.val = x\n",
    "        self.left = None\n",
    "        self.right = None\n",
    "\n",
    "class Solution:\n",
    "    def levelOrder(self, root: TreeNode) -> List[int]:\n",
    "        if not root: return []\n",
    "        tree_list,queue = [],collections.deque()\n",
    "        # 加入第一个根节点\n",
    "        left_flag = 0\n",
    "        right_flag =0\n",
    "        queue.append(root)\n",
    "        while queue:\n",
    "            # deque是双端队列，popleft\n",
    "            node_lst = []\n",
    "            # 在每一层加个循环\n",
    "            for _ in range(len(queue)):\n",
    "                node = queue.popleft()\n",
    "                node_lst.append(node.val)\n",
    "                #若左右子树不为空，则一次添加两个元素\n",
    "                if node.left:\n",
    "                    queue.append(node.left)\n",
    "                if node.right:\n",
    "                    queue.append(node.right)\n",
    "            tree_list.append(node_lst)\n",
    "        return tree_list"
   ],
   "metadata": {
    "collapsed": false,
    "pycharm": {
     "name": "#%%\n"
    }
   }
  },
  {
   "cell_type": "markdown",
   "source": [
    "请实现一个函数按照之字形顺序打印二叉树，即第一行按照从左到右的顺序打印，第二层按照从右到左的顺序打印，第三行再按照从左到右的顺序打印，其他行以此类推。\n",
    "\n",
    "例如:\n",
    "给定二叉树: [3,9,20,null,null,15,7],\n",
    "\n",
    "    3\n",
    "   / \\\n",
    "  9  20\n",
    "    /  \\\n",
    "   15   7\n",
    "返回其层次遍历结果：\n",
    "\n",
    "[\n",
    "  [3],\n",
    "  [20,9],\n",
    "  [15,7]\n",
    "]\n",
    "\n",
    "来源：力扣（LeetCode）\n",
    "链接：https://leetcode-cn.com/problems/cong-shang-dao-xia-da-yin-er-cha-shu-iii-lcof\n",
    "著作权归领扣网络所有。商业转载请联系官方授权，非商业转载请注明出处。"
   ],
   "metadata": {
    "collapsed": false
   }
  },
  {
   "cell_type": "code",
   "execution_count": null,
   "outputs": [],
   "source": [
    "# 从上到下打印，即广度优先遍历（BFS）\n",
    "from typing import List\n",
    "import collections\n",
    "# Definition for a binary tree node.\n",
    "class TreeNode:\n",
    "    def __init__(self, x):\n",
    "        self.val = x\n",
    "        self.left = None\n",
    "        self.right = None\n",
    "\n",
    "class Solution:\n",
    "    def levelOrder(self, root: TreeNode) -> List[int]:\n",
    "        if not root: return []\n",
    "        tree_list,queue = [],collections.deque()\n",
    "        # 加入第一个根节点\n",
    "        flag = 0\n",
    "        queue.append(root)\n",
    "        while queue:\n",
    "            # deque是双端队列，popleft\n",
    "            node_lst = collections.deque()\n",
    "            # 在每一层加个循环\n",
    "            for _ in range(len(queue)):\n",
    "                node = queue.popleft()\n",
    "                if flag %2 ==0:\n",
    "                    node_lst.appendleft(node.val)\n",
    "                else:\n",
    "                    node_lst.append(node.val)\n",
    "                #若左右子树不为空，则一次添加两个元\n",
    "                if node.left:\n",
    "                    queue.append(node.left)\n",
    "                if node.right:\n",
    "                    queue.append(node.right)\n",
    "\n",
    "            tree_list.append(node_lst)\n",
    "            flag +=1\n",
    "\n",
    "        return tree_list\n"
   ],
   "metadata": {
    "collapsed": false,
    "pycharm": {
     "name": "#%%\n"
    }
   }
  }
 ],
 "metadata": {
  "kernelspec": {
   "display_name": "Python 3",
   "language": "python",
   "name": "python3"
  },
  "language_info": {
   "codemirror_mode": {
    "name": "ipython",
    "version": 2
   },
   "file_extension": ".py",
   "mimetype": "text/x-python",
   "name": "python",
   "nbconvert_exporter": "python",
   "pygments_lexer": "ipython2",
   "version": "2.7.6"
  }
 },
 "nbformat": 4,
 "nbformat_minor": 0
}