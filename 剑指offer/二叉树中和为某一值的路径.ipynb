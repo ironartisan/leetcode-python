{
 "cells": [
  {
   "cell_type": "markdown",
   "source": [
    "剑指 Offer 34. 二叉树中和为某一值的路径\n",
    "输入一棵二叉树和一个整数，打印出二叉树中节点值的和为输入整数的所有路径。从树的根节点开始往下一直到叶节点所经过的节点形成一条路径。\n",
    "\n",
    "\n",
    "\n",
    "示例:\n",
    "给定如下二叉树，以及目标和 sum = 22，\n",
    "\n",
    "              5\n",
    "             / \\\n",
    "            4   8\n",
    "           /   / \\\n",
    "          11  13  4\n",
    "         /  \\    / \\\n",
    "        7    2  5   1\n",
    "返回:\n",
    "\n",
    "[\n",
    "   [5,4,11,2],\n",
    "   [5,8,4,5]\n",
    "]"
   ],
   "metadata": {
    "collapsed": false
   }
  },
  {
   "cell_type": "code",
   "execution_count": null,
   "outputs": [],
   "source": [
    "from typing import List\n",
    "\n",
    "# Definition for a binary tree node.\n",
    "class TreeNode:\n",
    "    def __init__(self, x):\n",
    "        self.val = x\n",
    "        self.left = None\n",
    "        self.right = None\n",
    "\n",
    "class Solution:\n",
    "    \"\"\"\n",
    "    解题思路：\n",
    "    1. 路径更新： 将当前节点值 root.val 加入路径 path ；\n",
    "    2. 目标值更新： tar = tar - root.val（即目标值 tar 从 sum 减至 000 ）；\n",
    "    3. 路径记录： 当 ① root 为叶节点 且 ② 路径和等于目标值 ，则将此路径 path 加入 res 。\n",
    "    4. 先序遍历： 递归左 / 右子节点。\n",
    "    5. 路径恢复： 向上回溯前，需要将当前节点从路径 path 中删除，即执行 path.pop()\n",
    "\n",
    "    \"\"\"\n",
    "    def pathSum(self, root: TreeNode, sum: int) -> List[List[int]]:\n",
    "        path = []\n",
    "        res = []\n",
    "        def recur(root, tar):\n",
    "            if not root:return\n",
    "            # 添加path\n",
    "            path.append(root.val)\n",
    "            # 减去root值\n",
    "            tar -= root.val\n",
    "            if tar == 0 and not root.left and not root.righ:\n",
    "                # 此处若为res.append(path)，则是将 path 对象加入了 res ；\n",
    "                # 后续 path 改变时， res 中的 path 对象也会随之改变。\n",
    "                res.append(list(path))\n",
    "            recur(root.left, tar)\n",
    "            recur(root.right, tar)\n",
    "            # 不满足条件，去除root value\n",
    "            path.pop()\n",
    "        recur(root, sum)\n",
    "        return res\n"
   ],
   "metadata": {
    "collapsed": false,
    "pycharm": {
     "name": "#%%\n"
    }
   }
  }
 ],
 "metadata": {
  "kernelspec": {
   "display_name": "Python 3",
   "language": "python",
   "name": "python3"
  },
  "language_info": {
   "codemirror_mode": {
    "name": "ipython",
    "version": 2
   },
   "file_extension": ".py",
   "mimetype": "text/x-python",
   "name": "python",
   "nbconvert_exporter": "python",
   "pygments_lexer": "ipython2",
   "version": "2.7.6"
  }
 },
 "nbformat": 4,
 "nbformat_minor": 0
}