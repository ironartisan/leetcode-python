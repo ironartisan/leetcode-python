{
 "cells": [
  {
   "cell_type": "markdown",
   "metadata": {
    "collapsed": true,
    "pycharm": {
     "name": "#%% md\n"
    }
   },
   "source": [
    "剑指 Offer 42. 连续子数组的最大和\n",
    "输入一个整型数组，数组中的一个或连续多个整数组成一个子数组。求所有子数组的和的最大值。\n",
    "\n",
    "要求时间复杂度为O(n)。\n",
    "\n",
    "示例1:\n",
    "\n",
    "输入: nums = [-2,1,-3,4,-1,2,1,-5,4]\n",
    "输出: 6\n",
    "解释: 连续子数组 [4,-1,2,1] 的和最大，为 6。\n",
    "\n",
    "提示：\n",
    "\n",
    "1 <= arr.length <= 10^5\n",
    "-100 <= arr[i] <= 100\n",
    "注意：本题与主站 53 题相同：https://leetcode-cn.com/problems/maximum-subarray/"
   ]
  },
  {
   "cell_type": "code",
   "execution_count": null,
   "outputs": [],
   "source": [
    "from typing import List\n",
    "class Solution:\n",
    "    \"\"\"\n",
    "    解题思路：\n",
    "    1. 使用滑动窗口的方法，窗口值为1-n\n",
    "    2.求最大值\n",
    "    \"\"\"\n",
    "    def maxSubArray(self, nums: List[int]) -> int:\n",
    "        #\n",
    "        for i in range(1, len(nums)):\n",
    "            nums[i] += max(nums[i-1], 0)\n",
    "        return max(nums[i])\n",
    "\n"
   ],
   "metadata": {
    "collapsed": false,
    "pycharm": {
     "name": "#%%\n"
    }
   }
  }
 ],
 "metadata": {
  "kernelspec": {
   "display_name": "Python 3",
   "language": "python",
   "name": "python3"
  },
  "language_info": {
   "codemirror_mode": {
    "name": "ipython",
    "version": 2
   },
   "file_extension": ".py",
   "mimetype": "text/x-python",
   "name": "python",
   "nbconvert_exporter": "python",
   "pygments_lexer": "ipython2",
   "version": "2.7.6"
  }
 },
 "nbformat": 4,
 "nbformat_minor": 0
}