{
 "cells": [
  {
   "cell_type": "markdown",
   "metadata": {
    "collapsed": true,
    "pycharm": {
     "name": "#%% md\n"
    }
   },
   "source": [
    "剑指 Offer 04. 二维数组中的查找\n",
    "\n",
    "在一个 n * m 的二维数组中，每一行都按照从左到右递增的顺序排序，每一列都按照从上到下递增的顺序排序。\n",
    "请完成一个函数，输入这样的一个二维数组和一个整数，判断数组中是否含有该整数。\n",
    "\n",
    "\n",
    "示例:\n",
    "\n",
    "现有矩阵 matrix 如下：\n",
    "\n",
    "[\n",
    "  [1,   4,  7, 11, 15],\n",
    "  [2,   5,  8, 12, 19],\n",
    "  [3,   6,  9, 16, 22],\n",
    "  [10, 13, 14, 17, 24],\n",
    "  [18, 21, 23, 26, 30]\n",
    "]\n",
    "给定 target = 5，返回 true。\n",
    "\n",
    "给定 target = 20，返回 false。\n",
    "\n",
    " \n",
    "\n",
    "限制：\n",
    "\n",
    "0 <= n <= 1000\n",
    "\n",
    "0 <= m <= 1000\n",
    "\n",
    " \n",
    "\n",
    "注意：本题与主站 240 题相同：https://leetcode-cn.com/problems/search-a-2d-matrix-ii/\n",
    "\n",
    "来源：力扣（LeetCode）\n",
    "链接：https://leetcode-cn.com/problems/er-wei-shu-zu-zhong-de-cha-zhao-lcof\n",
    "著作权归领扣网络所有。商业转载请联系官方授权，非商业转载请注明出处。"
   ]
  },
  {
   "cell_type": "markdown",
   "source": [
    "解法1：暴力解法，未利用递增的特性"
   ],
   "metadata": {
    "collapsed": false,
    "pycharm": {
     "name": "#%% md\n"
    }
   }
  },
  {
   "cell_type": "code",
   "execution_count": null,
   "outputs": [],
   "source": [
    "from typing import List\n",
    "class Solution:\n",
    "    def findNumberIn2DArray(self, matrix: List[List[int]], target: int) -> bool:\n",
    "        if len(matrix) == 0:return False\n",
    "        for i in range(len(matrix)):\n",
    "                if target in matrix[i]:\n",
    "                    return True\n",
    "        return False\n"
   ],
   "metadata": {
    "collapsed": false,
    "pycharm": {
     "name": "#%%\n"
    }
   }
  },
  {
   "cell_type": "markdown",
   "source": [
    "解法2：标志数"
   ],
   "metadata": {
    "collapsed": false
   }
  },
  {
   "cell_type": "code",
   "execution_count": 16,
   "outputs": [],
   "source": [
    "from typing import List\n",
    "class Solution:\n",
    "    def findNumberIn2DArray(self, matrix: List[List[int]], target: int) -> bool:\n",
    "        i,j = len(matrix)-1,0\n",
    "        while i>=0 and j<len(matrix[0]):\n",
    "            if target > matrix[i][j]: j += 1\n",
    "            elif target < matrix[i][j]: i -= 1\n",
    "            else:return True\n",
    "        return False\n"
   ],
   "metadata": {
    "collapsed": false,
    "pycharm": {
     "name": "#%%\n"
    }
   }
  },
  {
   "cell_type": "code",
   "execution_count": 17,
   "outputs": [
    {
     "data": {
      "text/plain": "True"
     },
     "execution_count": 17,
     "metadata": {},
     "output_type": "execute_result"
    }
   ],
   "source": [
    "# Test\n",
    "test_list = [\n",
    "  [1,   4,  7, 11, 15],\n",
    "  [2,   5,  8, 12, 19],\n",
    "  [3,   6,  9, 16, 22],\n",
    "  [10, 13, 14, 17, 24],\n",
    "  [18, 21, 23, 26, 30]\n",
    "]\n",
    "solution = Solution()\n",
    "solution.findNumberIn2DArray(test_list, 11)"
   ],
   "metadata": {
    "collapsed": false,
    "pycharm": {
     "name": "#%%\n"
    }
   }
  }
 ],
 "metadata": {
  "kernelspec": {
   "display_name": "Python 3",
   "language": "python",
   "name": "python3"
  },
  "language_info": {
   "codemirror_mode": {
    "name": "ipython",
    "version": 2
   },
   "file_extension": ".py",
   "mimetype": "text/x-python",
   "name": "python",
   "nbconvert_exporter": "python",
   "pygments_lexer": "ipython2",
   "version": "2.7.6"
  }
 },
 "nbformat": 4,
 "nbformat_minor": 0
}