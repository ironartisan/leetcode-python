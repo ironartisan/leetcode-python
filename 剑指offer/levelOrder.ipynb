{
 "cells": [
  {
   "cell_type": "markdown",
   "metadata": {
    "collapsed": true,
    "pycharm": {
     "name": "#%% md\n"
    }
   },
   "source": [
    "剑指 Offer 32 - I. 从上到下打印二叉树\n",
    "从上到下打印出二叉树的每个节点，同一层的节点按照从左到右的顺序打印。\n",
    "\n",
    "\n",
    "\n",
    "例如:\n",
    "给定二叉树: [3,9,20,null,null,15,7],\n",
    "\n",
    "    3\n",
    "   / \\\n",
    "  9  20\n",
    "    /  \\\n",
    "   15   7\n",
    "返回：\n",
    "\n",
    "[3,9,20,15,7]\n",
    "\n",
    "\n",
    "提示：\n",
    "\n",
    "节点总数 <= 1000"
   ]
  },
  {
   "cell_type": "code",
   "execution_count": null,
   "outputs": [],
   "source": [
    "# 从上到下打印，即广度优先遍历（BFS）\n",
    "from typing import List\n",
    "import collections\n",
    "# Definition for a binary tree node.\n",
    "class TreeNode:\n",
    "    def __init__(self, x):\n",
    "        self.val = x\n",
    "        self.left = None\n",
    "        self.right = None\n",
    "\n",
    "class Solution:\n",
    "    def levelOrder(self, root: TreeNode) -> List[int]:\n",
    "        if not root: return []\n",
    "        tree_list,queue = [],collections.deque()\n",
    "        # 加入第一个根节点\n",
    "        queue.append(root)\n",
    "        while queue:\n",
    "            # deque是双端队列，popleft\n",
    "            node = queue.popleft()\n",
    "            tree_list.append(node.val)\n",
    "            if node.left:\n",
    "                queue.append(root.left)\n",
    "            if node.right:\n",
    "                queue.append(root.right)\n",
    "        return tree_list\n"
   ],
   "metadata": {
    "collapsed": false,
    "pycharm": {
     "name": "#%%\n"
    }
   }
  }
 ],
 "metadata": {
  "kernelspec": {
   "display_name": "Python 3",
   "language": "python",
   "name": "python3"
  },
  "language_info": {
   "codemirror_mode": {
    "name": "ipython",
    "version": 2
   },
   "file_extension": ".py",
   "mimetype": "text/x-python",
   "name": "python",
   "nbconvert_exporter": "python",
   "pygments_lexer": "ipython2",
   "version": "2.7.6"
  }
 },
 "nbformat": 4,
 "nbformat_minor": 0
}