{
 "cells": [
  {
   "cell_type": "markdown",
   "metadata": {
    "collapsed": true,
    "pycharm": {
     "name": "#%% md\n"
    }
   },
   "source": [
    "剑指 Offer 05. 替换空格\n",
    "请实现一个函数，把字符串 s 中的每个空格替换成\"%20\"。\n",
    "\n",
    "\n",
    "示例 1：\n",
    "\n",
    "输入：s = \"We are happy.\"\n",
    "输出：\"We%20are%20happy.\""
   ]
  },
  {
   "cell_type": "code",
   "execution_count": 9,
   "outputs": [],
   "source": [
    "class Solution:\n",
    "    def replaceSpace(self, s: str) -> str:\n",
    "        res = []\n",
    "        for word in s:\n",
    "            if word == ' ':res.append('%20')\n",
    "            else: res.append(word)\n",
    "        return \"\".join(res)\n"
   ],
   "metadata": {
    "collapsed": false,
    "pycharm": {
     "name": "#%%\n"
    }
   }
  },
  {
   "cell_type": "code",
   "execution_count": 10,
   "outputs": [
    {
     "data": {
      "text/plain": "'We%20are%20happy.'"
     },
     "execution_count": 10,
     "metadata": {},
     "output_type": "execute_result"
    }
   ],
   "source": [
    "# test\n",
    "s = \"We are happy.\"\n",
    "solution = Solution()\n",
    "solution.replaceSpace(s)\n",
    "\n"
   ],
   "metadata": {
    "collapsed": false,
    "pycharm": {
     "name": "#%%\n"
    }
   }
  }
 ],
 "metadata": {
  "kernelspec": {
   "display_name": "Python 3",
   "language": "python",
   "name": "python3"
  },
  "language_info": {
   "codemirror_mode": {
    "name": "ipython",
    "version": 2
   },
   "file_extension": ".py",
   "mimetype": "text/x-python",
   "name": "python",
   "nbconvert_exporter": "python",
   "pygments_lexer": "ipython2",
   "version": "2.7.6"
  }
 },
 "nbformat": 4,
 "nbformat_minor": 0
}