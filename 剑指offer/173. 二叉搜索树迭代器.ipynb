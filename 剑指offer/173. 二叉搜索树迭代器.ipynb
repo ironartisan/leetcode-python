{
 "cells": [
  {
   "cell_type": "markdown",
   "metadata": {
    "collapsed": true,
    "pycharm": {
     "name": "#%% md\n"
    }
   },
   "source": [
    "实现一个二叉搜索树迭代器类BSTIterator ，表示一个按中序遍历二叉搜索树（BST）的迭代器：\n",
    "BSTIterator(TreeNode root) 初始化 BSTIterator 类的一个对象。BST 的根节点 root 会作为构造函数的一部分给出。指针应初始化为一个不存在于 BST 中的数字，且该数字小于 BST 中的任何元素。\n",
    "boolean hasNext() 如果向指针右侧遍历存在数字，则返回 true ；否则返回 false 。\n",
    "int next()将指针向右移动，然后返回指针处的数字。\n",
    "注意，指针初始化为一个不存在于 BST 中的数字，所以对 next() 的首次调用将返回 BST 中的最小元素。\n",
    "\n",
    "你可以假设 next() 调用总是有效的，也就是说，当调用 next() 时，BST 的中序遍历中至少存在一个下一个数字。\n",
    "```\n",
    "输入\n",
    "[\"BSTIterator\", \"next\", \"next\", \"hasNext\", \"next\", \"hasNext\", \"next\", \"hasNext\", \"next\", \"hasNext\"]\n",
    "[[[7, 3, 15, null, null, 9, 20]], [], [], [], [], [], [], [], [], []]\n",
    "输出\n",
    "[null, 3, 7, true, 9, true, 15, true, 20, false]\n",
    "\n",
    "解释\n",
    "BSTIterator bSTIterator = new BSTIterator([7, 3, 15, null, null, 9, 20]);\n",
    "bSTIterator.next();    // 返回 3\n",
    "bSTIterator.next();    // 返回 7\n",
    "bSTIterator.hasNext(); // 返回 True\n",
    "bSTIterator.next();    // 返回 9\n",
    "bSTIterator.hasNext(); // 返回 True\n",
    "bSTIterator.next();    // 返回 15\n",
    "bSTIterator.hasNext(); // 返回 True\n",
    "bSTIterator.next();    // 返回 20\n",
    "bSTIterator.hasNext(); // 返回 False\n",
    "\n",
    "来源：力扣（LeetCode）\n",
    "链接：https://leetcode-cn.com/problems/binary-search-tree-iterator\n",
    "著作权归领扣网络所有。商业转载请联系官方授权，非商业转载请注明出处。\n",
    "```\n",
    "来源：力扣（LeetCode）\n",
    "链接：https://leetcode-cn.com/problems/binary-search-tree-iterator\n",
    "著作权归领扣网络所有。商业转载请联系官方授权，非商业转载请注明出处。\n",
    "\n",
    "\n"
   ]
  },
  {
   "cell_type": "code",
   "execution_count": null,
   "outputs": [],
   "source": [
    "# 1. 递归法\n",
    "# Definition for a binary tree node.\n",
    "class TreeNode:\n",
    "    def __init__(self, val=0, left=None, right=None):\n",
    "        self.val = val\n",
    "        self.left = left\n",
    "        self.right = right\n",
    "class BSTIterator:\n",
    "\n",
    "    def __init__(self, root: TreeNode):\n",
    "        self.tree_lst = []\n",
    "        self.inorder(root, self.tree_lst)\n",
    "\n",
    "\n",
    "    def next(self) -> int:\n",
    "        return self.tree_lst.pop()\n",
    "\n",
    "    def hasNext(self) -> bool:\n",
    "        return True if self.tree_lst else False\n",
    "\n",
    "\n",
    "\n",
    "    def inorder(self, root, arr):\n",
    "        if not root:\n",
    "            return\n",
    "        # 栈是后进先出的，先入右子树，再入左子树\n",
    "        self.inorder(root.right, arr)\n",
    "        arr.append(root.val)\n",
    "        self.inorder(root.left, arr)\n",
    "\n",
    "\n",
    "\n",
    "# Your BSTIterator object will be instantiated and called as such:\n",
    "# obj = BSTIterator(root)\n",
    "# param_1 = obj.next()\n",
    "# param_2 = obj.hasNext()"
   ],
   "metadata": {
    "collapsed": false,
    "pycharm": {
     "name": "#%%\n"
    }
   }
  },
  {
   "cell_type": "code",
   "execution_count": 5,
   "outputs": [
    {
     "name": "stdout",
     "output_type": "stream",
     "text": [
      "5\n"
     ]
    }
   ],
   "source": [
    "# 2. 迭代法\n",
    "class TreeNode:\n",
    "    def __init__(self, val=0, left=None, right=None):\n",
    "        self.val = val\n",
    "        self.left = left\n",
    "        self.right = right\n",
    "class BSTIterator:\n",
    "\n",
    "    def __init__(self, root: TreeNode):\n",
    "        self.tree_lst = []\n",
    "        self.inorder(root, self.tree_lst)\n",
    "\n",
    "\n",
    "    def next(self) -> int:\n",
    "        return self.tree_lst.pop()\n",
    "\n",
    "    def hasNext(self) -> bool:\n",
    "        return True if self.tree_lst else False\n",
    "\n",
    "\n",
    "\n",
    "    def inorder(self, root, res):\n",
    "        stack = []\n",
    "        while stack or root:\n",
    "            if root:\n",
    "                stack.append(root)\n",
    "                root = root.right\n",
    "            else:\n",
    "                tmp = stack.pop()\n",
    "                res.append(tmp.val)\n",
    "                root = tmp.left\n",
    "\n",
    "\n",
    "\n",
    "\n"
   ],
   "metadata": {
    "collapsed": false,
    "pycharm": {
     "name": "#%%\n"
    }
   }
  }
 ],
 "metadata": {
  "kernelspec": {
   "display_name": "Python 3",
   "language": "python",
   "name": "python3"
  },
  "language_info": {
   "codemirror_mode": {
    "name": "ipython",
    "version": 2
   },
   "file_extension": ".py",
   "mimetype": "text/x-python",
   "name": "python",
   "nbconvert_exporter": "python",
   "pygments_lexer": "ipython2",
   "version": "2.7.6"
  }
 },
 "nbformat": 4,
 "nbformat_minor": 0
}