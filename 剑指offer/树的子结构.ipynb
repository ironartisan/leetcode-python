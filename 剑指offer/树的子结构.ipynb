{
 "cells": [
  {
   "cell_type": "markdown",
   "metadata": {
    "collapsed": true,
    "pycharm": {
     "name": "#%% md\n"
    }
   },
   "source": [
    "输入两棵二叉树A和B，判断B是不是A的子结构。(约定空树不是任意一个树的子结构)\n",
    "\n",
    "B是A的子结构， 即 A中有出现和B相同的结构和节点值。\n",
    "\n",
    "例如:\n",
    "给定的树 A:\n",
    "\n",
    "     3\n",
    "    / \\\n",
    "   4   5\n",
    "  / \\\n",
    " 1   2\n",
    "给定的树 B：\n",
    "\n",
    "   4 \n",
    "  /\n",
    " 1\n",
    "返回 true，因为 B 与 A 的一个子树拥有相同的结构和节点值。\n",
    "\n",
    "示例 1：\n",
    "\n",
    "输入：A = [1,2,3], B = [3,1]\n",
    "输出：false\n",
    "示例 2：\n",
    "\n",
    "输入：A = [3,4,5,1,2], B = [4,1]\n",
    "输出：true\n",
    "限制：\n",
    "\n",
    "0 <= 节点个数 <= 10000\n",
    "\n",
    "来源：力扣（LeetCode）\n",
    "链接：https://leetcode-cn.com/problems/shu-de-zi-jie-gou-lcof\n",
    "著作权归领扣网络所有。商业转载请联系官方授权，非商业转载请注明出处。"
   ]
  },
  {
   "cell_type": "code",
   "execution_count": null,
   "outputs": [],
   "source": [
    "\"\"\"\n",
    "解题思路1：\n",
    "1. 若A或B中有一个为空，则返回false\n",
    "2. 使用先序遍历构造二叉树\n",
    "\"\"\"\n",
    "# Definition for a binary tree node.\n",
    "class TreeNode:\n",
    "    def __init__(self, x):\n",
    "        self.val = x\n",
    "        self.left = None\n",
    "        self.right = None\n",
    "\n",
    "class Solution:\n",
    "    def isSubStructure(self, A: TreeNode, B: TreeNode) -> bool:\n",
    "        # if not A or not B: return False\n",
    "        def recur(A, B):\n",
    "            if not B: return True\n",
    "            if not A or A.val != B.val: return False\n",
    "            return recur(A.left, B.left) and recur(A.right, B.right)\n",
    "        return bool(A and B) and (recur(A,B) or self.isSubStructure(A.left, B)\n",
    "                                  or self.isSubStructure(A.right,B))\n",
    "\n"
   ],
   "metadata": {
    "collapsed": false,
    "pycharm": {
     "name": "#%%\n"
    }
   }
  }
 ],
 "metadata": {
  "kernelspec": {
   "display_name": "Python 3",
   "language": "python",
   "name": "python3"
  },
  "language_info": {
   "codemirror_mode": {
    "name": "ipython",
    "version": 2
   },
   "file_extension": ".py",
   "mimetype": "text/x-python",
   "name": "python",
   "nbconvert_exporter": "python",
   "pygments_lexer": "ipython2",
   "version": "2.7.6"
  }
 },
 "nbformat": 4,
 "nbformat_minor": 0
}