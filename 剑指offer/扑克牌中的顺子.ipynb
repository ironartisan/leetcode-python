{
 "cells": [
  {
   "cell_type": "markdown",
   "metadata": {
    "collapsed": true,
    "pycharm": {
     "name": "#%% md\n"
    }
   },
   "source": [
    "剑指 Offer 61. 扑克牌中的顺子\n",
    "从扑克牌中随机抽5张牌，判断是不是一个顺子，即这5张牌是不是连续的。2～10为数字本身，A为1，J为11，Q为12，K为13，而大、小王为 0 ，可以看成任意数字。A 不能视为 14。\n",
    "\n",
    "\n",
    "\n",
    "示例 1:\n",
    "\n",
    "输入: [1,2,3,4,5]\n",
    "输出: True\n",
    "\n",
    "\n",
    "示例 2:\n",
    "\n",
    "输入: [0,0,1,2,5]\n",
    "输出: True\n",
    "\n",
    "\n",
    "限制：\n",
    "\n",
    "数组长度为 5\n",
    "\n",
    "数组的数取值为 [0, 13] .\n"
   ]
  },
  {
   "cell_type": "code",
   "execution_count": 16,
   "outputs": [],
   "source": [
    "from typing import List\n",
    "\"\"\"\n",
    "直接法\n",
    "解题思路：\n",
    "1. 遍历数组，寻找为0的元素\n",
    "  1.1 没有0\n",
    "    判断5个数是否连贯\n",
    "  1.2 有1个0\n",
    "    判断加1个数是否连贯\n",
    "  1.3 有2个0\n",
    "    判断加2个数是否连贯\n",
    "2. 定义1个判断是否连贯的函数\n",
    "  2.1 对数组进行排序\n",
    "  2.2 判断是否是递增的关系\n",
    "\"\"\"\n",
    "class Solution:\n",
    "    def isStraight(self, nums: List[int]) -> bool:\n",
    "        def is_continous(nums):\n",
    "            sorted_nums=sorted(nums)\n",
    "            length = len(sorted_nums)\n",
    "            for i in range(0, length-1):\n",
    "                if sorted_nums[i]+1 != sorted_nums[i+1]:\n",
    "                    return False\n",
    "            return True\n",
    "        # 数组中为0的个数\n",
    "        len_zero = 0\n",
    "        for num in nums:\n",
    "            if num==0:\n",
    "                len_zero+=1\n",
    "        # 判断为0的情况\n",
    "        # 1.1 无0\n",
    "        if len_zero == 0:\n",
    "            if is_continous(nums):\n",
    "                return True\n",
    "            return False\n",
    "        # 1.2 有一个0\n",
    "        elif len_zero ==1:\n",
    "            for i in range(1, 14):\n",
    "                rep = [ i if num==0 else num for num in nums]\n",
    "                if is_continous(rep):\n",
    "                    return True\n",
    "            return False\n",
    "        # 1.3 有2个0\n",
    "        else:\n",
    "            for i in range(1, 14):\n",
    "                for j in range(1,14):\n",
    "                    filter_nums = [ num for num in nums if num >0]\n",
    "                    filter_nums.append(i)\n",
    "                    filter_nums.append(j)\n",
    "                    if is_continous(filter_nums):\n",
    "                        return True\n",
    "            return False"
   ],
   "metadata": {
    "collapsed": false,
    "pycharm": {
     "name": "#%%\n"
    }
   }
  },
  {
   "cell_type": "code",
   "execution_count": 19,
   "outputs": [
    {
     "data": {
      "text/plain": "[0, 0, 1, 4, 5]"
     },
     "execution_count": 19,
     "metadata": {},
     "output_type": "execute_result"
    }
   ],
   "source": [
    "nums = [1,5,4,0,0]\n",
    "sorted(nums)"
   ],
   "metadata": {
    "collapsed": false,
    "pycharm": {
     "name": "#%%\n"
    }
   }
  },
  {
   "cell_type": "markdown",
   "source": [
    "时间复杂度分析\n",
    "O(N*N)\n",
    "空间复杂度分析\n",
    "O(1)\n"
   ],
   "metadata": {
    "collapsed": false,
    "pycharm": {
     "name": "#%% md\n"
    }
   }
  },
  {
   "cell_type": "code",
   "execution_count": 24,
   "outputs": [],
   "source": [
    "# 换一种思路\n",
    "\"\"\"\n",
    "除大小王外，所有牌 无重复 ；\n",
    "设此 5 张牌中最大的牌为 max，最小的牌为 min （大小王除外），则需满足：\n",
    "max−min<5\n",
    "\"\"\"\n",
    "class Solution:\n",
    "    def isStraight(self, nums: List[int]) -> bool:\n",
    "        repeat = set()\n",
    "        ma,mi = 0, 14\n",
    "        for num in nums:\n",
    "            # 跳过大小王\n",
    "            if num==0: continue\n",
    "            ma = max(ma, num)\n",
    "            mi = min(mi, num)\n",
    "            # 若有重复，提前返回False\n",
    "            if num in repeat:\n",
    "                return False\n",
    "            repeat.add(num)\n",
    "            return ma - mi < 5"
   ],
   "metadata": {
    "collapsed": false,
    "pycharm": {
     "name": "#%%\n"
    }
   }
  },
  {
   "cell_type": "markdown",
   "source": [
    "复杂度分析：\n",
    "时间复杂度 O(N)\n",
    "空间复杂度 O(N)"
   ],
   "metadata": {
    "collapsed": false,
    "pycharm": {
     "name": "#%% md\n"
    }
   }
  },
  {
   "cell_type": "code",
   "execution_count": 25,
   "outputs": [
    {
     "name": "stdout",
     "output_type": "stream",
     "text": [
      "true\n"
     ]
    }
   ],
   "source": [
    "# 测试代码\n",
    "nums = [1,3,4,2,5]\n",
    "solution = Solution()\n",
    "if solution.isStraight(nums):\n",
    "    print(\"true\")\n",
    "else:\n",
    "    print(\"false\")"
   ],
   "metadata": {
    "collapsed": false,
    "pycharm": {
     "name": "#%%\n"
    }
   }
  }
 ],
 "metadata": {
  "kernelspec": {
   "display_name": "Python 3",
   "language": "python",
   "name": "python3"
  },
  "language_info": {
   "codemirror_mode": {
    "name": "ipython",
    "version": 2
   },
   "file_extension": ".py",
   "mimetype": "text/x-python",
   "name": "python",
   "nbconvert_exporter": "python",
   "pygments_lexer": "ipython2",
   "version": "2.7.6"
  }
 },
 "nbformat": 4,
 "nbformat_minor": 0
}