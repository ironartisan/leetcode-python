{
 "cells": [
  {
   "cell_type": "markdown",
   "metadata": {
    "collapsed": true,
    "pycharm": {
     "name": "#%% md\n"
    }
   },
   "source": [
    "剑指 Offer 04. 二维数组中的查找\n",
    "在一个 n * m 的二维数组中，每一行都按照从左到右递增的顺序排序，每一列都按照从上到下递增的顺序排序。请完成一个函数，输入这样的一个二维数组和一个整数，判断数组中是否含有该整数。\n",
    "\n",
    "\n",
    "示例:\n",
    "\n",
    "现有矩阵 matrix 如下：\n",
    "\n",
    "[\n",
    "  [1,   4,  7, 11, 15],\n",
    "  [2,   5,  8, 12, 19],\n",
    "  [3,   6,  9, 16, 22],\n",
    "  [10, 13, 14, 17, 24],\n",
    "  [18, 21, 23, 26, 30]\n",
    "]\n",
    "给定 target = 5，返回 true。\n",
    "\n",
    "给定 target = 20，返回 false。"
   ]
  },
  {
   "cell_type": "code",
   "execution_count": 3,
   "outputs": [],
   "source": [
    "from typing import List\n",
    "class Solution:\n",
    "    \"\"\"\n",
    "    暴力解法\n",
    "    1. 将左上角的值（最小值）赋值给一个temp\n",
    "    2.判断target与temp的大小\n",
    "      2.1 若等于，返回true\n",
    "      2.2 若小于，返回false\n",
    "      2.3 若大于，则继续查找\n",
    "        2.3.1 先按行查找\n",
    "        2.3.2 再按列查找\n",
    "    4. return false\n",
    "\n",
    "    \"\"\"\n",
    "    def findNumberIn2DArray(self, matrix: List[List[int]], target: int) -> bool:\n",
    "        if len(matrix) == 0 or len(matrix[0]) == 0:return False\n",
    "        temp = matrix[0][0]\n",
    "        if temp == target:return True\n",
    "        elif temp > target: return False\n",
    "        else:\n",
    "            row = len(matrix)\n",
    "            column = len(matrix[0])\n",
    "            for i in range(row):\n",
    "                for j in range(column):\n",
    "                    print(matrix[i][j])\n",
    "                    if matrix[i][j] == target:\n",
    "                        return True\n",
    "        return False\n",
    "\n"
   ],
   "metadata": {
    "collapsed": false,
    "pycharm": {
     "name": "#%%\n"
    }
   }
  },
  {
   "cell_type": "code",
   "execution_count": null,
   "outputs": [],
   "source": [
    "class Solution:\n",
    "    \"\"\"\n",
    "    解题思路：\n",
    "若使用暴力法遍历矩阵 matrix ，则时间复杂度为 O(NM)O(NM)O(NM) 。暴力法未利用矩阵 “从上到下递增、从左到右递增” 的特点，显然不是最优解法。\n",
    "\n",
    "如下图所示，我们将矩阵逆时针旋转 45° ，并将其转化为图形式，发现其类似于 二叉搜索树 ，即对于每个元素，其左分支元素更小、右分支元素更大。因此，通过从 “根节点” 开始搜索，遇到比 target 大的元素就向左，反之向右，即可找到目标值 target 。\n",
    "\n",
    "“根节点” 对应的是矩阵的 “左下角” 和 “右上角” 元素，本文称之为 标志数 ，以 matrix 中的 左下角元素 为标志数 flag ，则有:\n",
    "\n",
    "若 flag > target ，则 target 一定在 flag 所在 行的上方 ，即 flag 所在行可被消去。\n",
    "若 flag < target ，则 target 一定在 flag 所在 列的右方 ，即 flag 所在列可被消去。\n",
    "算法流程：\n",
    "从矩阵 matrix 左下角元素（索引设为 (i, j) ）开始遍历，并与目标值对比：\n",
    "当 matrix[i][j] > target 时，执行 i-- ，即消去第 i 行元素；\n",
    "当 matrix[i][j] < target 时，执行 j++ ，即消去第 j 列元素；\n",
    "当 matrix[i][j] = target 时，返回 truetruetrue ，代表找到目标值。\n",
    "若行索引或列索引越界，则代表矩阵中无目标值，返回 falsefalsefalse 。\n",
    "每轮 i 或 j 移动后，相当于生成了“消去一行（列）的新矩阵”， 索引(i,j) 指向新矩阵的左下角元素（标志数），因此可重复使用以上性质消去行（列）。\n",
    "\n",
    "复杂度分析：\n",
    "时间复杂度 O(M+N)O(M+N)O(M+N) ：其中，NNN 和 MMM 分别为矩阵行数和列数，此算法最多循环 M+NM+NM+N 次。\n",
    "空间复杂度 O(1)O(1)O(1) : i, j 指针使用常数大小额外空间。\n",
    "\n",
    "作者：jyd\n",
    "链接：https://leetcode-cn.com/problems/er-wei-shu-zu-zhong-de-cha-zhao-lcof/solution/mian-shi-ti-04-er-wei-shu-zu-zhong-de-cha-zhao-zuo/\n",
    "来源：力扣（LeetCode）\n",
    "著作权归作者所有。商业转载请联系作者获得授权，非商业转载请注明出处。\n",
    "    \"\"\"\n",
    "    def findNumberIn2DArray(self, matrix: List[List[int]], target: int) -> bool:\n",
    "        i, j = len(matrix) - 1, 0\n",
    "        while i >= 0 and j < len(matrix[0]):\n",
    "            if matrix[i][j] > target: i -= 1\n",
    "            elif matrix[i][j] < target: j += 1\n",
    "            else: return True\n",
    "        return False"
   ],
   "metadata": {
    "collapsed": false,
    "pycharm": {
     "name": "#%%\n"
    }
   }
  },
  {
   "cell_type": "code",
   "execution_count": 4,
   "outputs": [
    {
     "data": {
      "text/plain": "False"
     },
     "execution_count": 4,
     "metadata": {},
     "output_type": "execute_result"
    }
   ],
   "source": [
    "# test\n",
    "martix = [[-1,3]]\n",
    "target = 3\n",
    "solution = Solution()\n",
    "solution.findNumberIn2DArray(martix, target)"
   ],
   "metadata": {
    "collapsed": false,
    "pycharm": {
     "name": "#%%\n"
    }
   }
  },
  {
   "cell_type": "code",
   "execution_count": 6,
   "outputs": [],
   "source": [
    "row = 0\n",
    "for i in range(0, row):\n",
    "    print(i)\n"
   ],
   "metadata": {
    "collapsed": false,
    "pycharm": {
     "name": "#%%\n"
    }
   }
  }
 ],
 "metadata": {
  "kernelspec": {
   "display_name": "Python 3",
   "language": "python",
   "name": "python3"
  },
  "language_info": {
   "codemirror_mode": {
    "name": "ipython",
    "version": 2
   },
   "file_extension": ".py",
   "mimetype": "text/x-python",
   "name": "python",
   "nbconvert_exporter": "python",
   "pygments_lexer": "ipython2",
   "version": "2.7.6"
  }
 },
 "nbformat": 4,
 "nbformat_minor": 0
}