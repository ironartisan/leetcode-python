{
 "cells": [
  {
   "cell_type": "markdown",
   "metadata": {
    "collapsed": true,
    "pycharm": {
     "name": "#%% md\n"
    }
   },
   "source": [
    "剑指 Offer 33. 二叉搜索树的后序遍历序列\n",
    "输入一个整数数组，判断该数组是不是某二叉搜索树的后序遍历结果。如果是则返回 true，否则返回 false。假设输入的数组的任意两个数字都互不相同。\n",
    "\n",
    "参考以下这颗二叉搜索树：\n",
    "     5\n",
    "    / \\\n",
    "   2   6\n",
    "  / \\\n",
    " 1   3\n",
    "示例 1：\n",
    "\n",
    "输入: [1,6,3,2,5]\n",
    "输出: false\n",
    "示例 2：\n",
    "\n",
    "输入: [1,3,2,6,5]\n",
    "输出: true"
   ]
  },
  {
   "cell_type": "code",
   "execution_count": null,
   "outputs": [],
   "source": [
    "from typing import List\n",
    "class Solution:\n",
    "    \"\"\"\n",
    "    思路：\n",
    "    二叉搜索树的后序遍历结果特点\n",
    "    左子树|右子树|根节点\n",
    "    左子树<右子树\n",
    "\n",
    "    \"\"\"\n",
    "    def verifyPostorder(self, postorder: List[int]) -> bool:\n",
    "        def recur(i,j):\n",
    "            if i>=j:return True\n",
    "            p=i\n",
    "            while postorder[p] < postorder[j]: p+=1\n",
    "            m=p\n",
    "            while postorder[p] >postorder[j]: p+=1\n",
    "            return p==j and recur(i, m-1) and recur(m,j-1)\n",
    "        return recur(0, len(postorder)-1)\n"
   ],
   "metadata": {
    "collapsed": false,
    "pycharm": {
     "name": "#%%\n"
    }
   }
  },
  {
   "cell_type": "markdown",
   "source": [
    "### 时间复杂度O(N^2)\n",
    "### 空间复杂度O(N)\n",
    "\n",
    "\n"
   ],
   "metadata": {
    "collapsed": false,
    "pycharm": {
     "name": "#%% md\n"
    }
   }
  }
 ],
 "metadata": {
  "kernelspec": {
   "display_name": "Python 3",
   "language": "python",
   "name": "python3"
  },
  "language_info": {
   "codemirror_mode": {
    "name": "ipython",
    "version": 2
   },
   "file_extension": ".py",
   "mimetype": "text/x-python",
   "name": "python",
   "nbconvert_exporter": "python",
   "pygments_lexer": "ipython2",
   "version": "2.7.6"
  }
 },
 "nbformat": 4,
 "nbformat_minor": 0
}