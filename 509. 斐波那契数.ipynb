{
 "cells": [
  {
   "cell_type": "markdown",
   "metadata": {
    "collapsed": true,
    "pycharm": {
     "name": "#%% md\n"
    }
   },
   "source": [
    "斐波那契数，通常用 F(n) 表示，形成的序列称为 斐波那契数列 。该数列由 0 和 1 开始，后面的每一项数字都是前面两项数字的和。也就是：\n",
    "\n",
    "F(0) = 0，F(1) = 1\n",
    "F(n) = F(n - 1) + F(n - 2)，其中 n > 1\n",
    "给你 n ，请计算 F(n) 。\n",
    "\n",
    " \n",
    "```\n",
    "示例 1：\n",
    "\n",
    "输入：2\n",
    "输出：1\n",
    "解释：F(2) = F(1) + F(0) = 1 + 0 = 1\n",
    "示例 2：\n",
    "\n",
    "输入：3\n",
    "输出：2\n",
    "解释：F(3) = F(2) + F(1) = 1 + 1 = 2\n",
    "示例 3：\n",
    "\n",
    "输入：4\n",
    "输出：3\n",
    "解释：F(4) = F(3) + F(2) = 2 + 1 = 3\n",
    "```\n",
    "来源：力扣（LeetCode）\n",
    "链接：https://leetcode-cn.com/problems/fibonacci-number\n",
    "著作权归领扣网络所有。商业转载请联系官方授权，非商业转载请注明出处。\n"
   ]
  },
  {
   "cell_type": "code",
   "execution_count": null,
   "outputs": [],
   "source": [
    "# 递归解法\n",
    "class Solution:\n",
    "    def fib(self, n: int) -> int:\n",
    "        if n<2:return n\n",
    "        return (self.fib(n-1) + self.fib(n-2))"
   ],
   "metadata": {
    "collapsed": false,
    "pycharm": {
     "name": "#%%\n"
    }
   }
  },
  {
   "cell_type": "code",
   "execution_count": null,
   "outputs": [],
   "source": [
    "# 动态规划解法\n",
    "class Solution:\n",
    "    def fib(self, n: int) -> int:\n",
    "        # base case\n",
    "        if n<2: return n\n",
    "\n",
    "        # 保留两个状态\n",
    "        pre,cur = 1,1\n",
    "        \n",
    "        for i in range(3,n+1):\n",
    "            sum = pre + cur\n",
    "            pre,cur = cur,sum\n",
    "        return cur\n"
   ],
   "metadata": {
    "collapsed": false,
    "pycharm": {
     "name": "#%%\n"
    }
   }
  }
 ],
 "metadata": {
  "kernelspec": {
   "display_name": "Python 3",
   "language": "python",
   "name": "python3"
  },
  "language_info": {
   "codemirror_mode": {
    "name": "ipython",
    "version": 2
   },
   "file_extension": ".py",
   "mimetype": "text/x-python",
   "name": "python",
   "nbconvert_exporter": "python",
   "pygments_lexer": "ipython2",
   "version": "2.7.6"
  }
 },
 "nbformat": 4,
 "nbformat_minor": 0
}